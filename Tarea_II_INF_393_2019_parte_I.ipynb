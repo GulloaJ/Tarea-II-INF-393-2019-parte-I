{
  "nbformat": 4,
  "nbformat_minor": 0,
  "metadata": {
    "colab": {
      "name": "Tarea-II-INF-393-2019 parte I",
      "provenance": [],
      "collapsed_sections": [],
      "toc_visible": true
    },
    "kernelspec": {
      "name": "python3",
      "display_name": "Python 3"
    },
    "accelerator": "GPU"
  },
  "cells": [
    {
      "cell_type": "code",
      "metadata": {
        "id": "N3QP_tUJDQDX",
        "colab_type": "code",
        "colab": {}
      },
      "source": [
        "import pandas as pd\n",
        "import numpy as np\n",
        "import matplotlib.pyplot as plt\n",
        "\n",
        "\n",
        "ftr = open(\"polarity.train\", \"r\",  encoding=\"ISO-8859-1\")\n",
        "rows = [line.split(\" \",1) for line in ftr.readlines()]\n",
        "df_train = pd.DataFrame(rows, columns=['Sentiment','Text'])\n",
        "df_train['Sentiment'] = (pd.to_numeric(df_train['Sentiment'])+1)/2 # 0 o 1\n",
        "fts = open(\"polarity.dev\", \"r\",  encoding=\"ISO-8859-1\")\n",
        "rows1 = [line.split(\" \",1) for line in fts.readlines()]\n",
        "df_test = pd.DataFrame(rows1, columns = ['Sentiment', 'Text'])\n",
        "df_test['Sentiment'] = (pd.to_numeric(df_test['Sentiment'])+1)/2"
      ],
      "execution_count": 0,
      "outputs": []
    },
    {
      "cell_type": "markdown",
      "metadata": {
        "id": "H4vhRsZRm3kb",
        "colab_type": "text"
      },
      "source": [
        "Ya habiendo abierto los datos y asignado los datos INPUTs con sus respectivo OUTPUTs, nuestro objetivo es ver la 'calidad' de los datos. Debido a que es un problema de clasificación, estudiamos principalmente la cantidad de categorias y la cantidad de datos en cada una de ellas.\n",
        "Como se puede ver en los print de abajo, tenemos 3554 datos de entrenamiento y testeo, de los cuales existen 1770 reseñas postivias y 1751 reseñas negativas en el conjunto de entrenamiento. En general, esto es un problema cuando las categorias están drásticamente desbalanceadas (e.g, 3000 positivas y 554 negativas), ya que al momento de entrenar, nuestro modelo tenderá a entender solamente las frases que son positivas.\n",
        "\n",
        "Pero como se mencionó anteriormente, debido a lo balanceado de las reseñas, esperamos no tener un entrenamiento sesgado hacía ningún lado."
      ]
    },
    {
      "cell_type": "code",
      "metadata": {
        "id": "lqFWVzP2Dm_P",
        "colab_type": "code",
        "outputId": "15329b6c-a99c-4d99-bf71-ab010a2e057f",
        "colab": {
          "base_uri": "https://localhost:8080/",
          "height": 85
        }
      },
      "source": [
        "#A)\n",
        "\n",
        "df_train_text = df_train.Text\n",
        "df_test_text = df_test.Text\n",
        "labels_train = df_train.Sentiment.values\n",
        "labels_test = df_test.Sentiment.values\n",
        "\n",
        "print(df_train.shape, df_test.shape)\n",
        "print('cantidad de reseñas positivas para entrenar= ', np.argwhere(labels_train == 1).shape[0])\n",
        "print('cantidad de reseñas positivas para testear= ', np.argwhere(labels_test == 1).shape[0])\n",
        "print('Oración de entrenamiento más larga: ', max([len(i) for i in df_train_text]))\n",
        "#Notar que has 1784 reseñas negativas para entrenar\n",
        "# y 1803 reseñas negativas para testear. Por lo tanto existe una pequeña inclinación hacia las evaluadas negativamente"
      ],
      "execution_count": 10,
      "outputs": [
        {
          "output_type": "stream",
          "text": [
            "(3554, 2) (3554, 2)\n",
            "cantidad de reseñas positivas para entrenar=  1770\n",
            "cantidad de reseñas positivas para testear=  1751\n",
            "Oración de entrenamiento más larga:  267\n"
          ],
          "name": "stdout"
        }
      ]
    },
    {
      "cell_type": "markdown",
      "metadata": {
        "id": "f5YdgTZooj1u",
        "colab_type": "text"
      },
      "source": [
        "Como se señaló anteriormente, la idea de un buen balance en las respuesta es clave al momento de entrenar un modelo insesgado, es por eso que al hacer el split de los datos de entrenamiento para obtener el de validación, stratificamos las etiquetas del conjunto para mantener la misma proporción de reseñas positivas y negativas."
      ]
    },
    {
      "cell_type": "code",
      "metadata": {
        "id": "EGX2DXH5EMy2",
        "colab_type": "code",
        "colab": {}
      },
      "source": [
        "#B)\n",
        "\n",
        "from sklearn.model_selection import train_test_split \n",
        "\n",
        "df_train_text, df_val_text, labels_train, labels_val = train_test_split(df_train_text, labels_train, test_size=0.2, \n",
        "                                                                        stratify = labels_train)\n"
      ],
      "execution_count": 0,
      "outputs": []
    },
    {
      "cell_type": "markdown",
      "metadata": {
        "id": "yGpFwtGFo6I5",
        "colab_type": "text"
      },
      "source": [
        "#PRE-PROCESAMIENTO"
      ]
    },
    {
      "cell_type": "code",
      "metadata": {
        "id": "Q4xOwwSGsp54",
        "colab_type": "code",
        "outputId": "7bb8ba2d-8536-46b6-9574-1f9f19e44d84",
        "colab": {
          "base_uri": "https://localhost:8080/",
          "height": 119
        }
      },
      "source": [
        "#C)\n",
        "import nltk\n",
        "nltk.download('wordnet')\n",
        "nltk.download('stopwords')\n",
        "nltk.download('punkt')\n",
        "\n",
        "import re, time\n",
        "from nltk.corpus import stopwords\n",
        "from nltk import WordNetLemmatizer, word_tokenize\n",
        "def base_word(word):\n",
        "    wordlemmatizer = WordNetLemmatizer()\n",
        "    return wordlemmatizer.lemmatize(word) \n",
        "def word_extractor(text):\n",
        "    commonwords = stopwords.words('english')\n",
        "    text = re.sub(r'([a-z])\\1+', r'\\1\\1',text) #substitute multiple letter by two\n",
        "    words = \"\"\n",
        "    wordtokens = [ base_word(word.lower()) for word in word_tokenize(text) ]\n",
        "    for word in wordtokens:\n",
        "        if word not in commonwords: #delete stopwords\n",
        "            words+=\" \"+word\n",
        "    return words\n"
      ],
      "execution_count": 12,
      "outputs": [
        {
          "output_type": "stream",
          "text": [
            "[nltk_data] Downloading package wordnet to /root/nltk_data...\n",
            "[nltk_data]   Package wordnet is already up-to-date!\n",
            "[nltk_data] Downloading package stopwords to /root/nltk_data...\n",
            "[nltk_data]   Package stopwords is already up-to-date!\n",
            "[nltk_data] Downloading package punkt to /root/nltk_data...\n",
            "[nltk_data]   Package punkt is already up-to-date!\n"
          ],
          "name": "stdout"
        }
      ]
    },
    {
      "cell_type": "code",
      "metadata": {
        "id": "6zrYUTLavR79",
        "colab_type": "code",
        "outputId": "225bef56-67bc-4628-a159-5506f3d5890b",
        "colab": {
          "base_uri": "https://localhost:8080/",
          "height": 34
        }
      },
      "source": [
        "print(word_extractor(\"I love the taste of this cakes\"),\n",
        "word_extractor(\"I HATE THE HEAT \"),\n",
        "word_extractor(\"I love Machine Learning\"),\n",
        "word_extractor(\"I do love have homework when I supposed to have rest days\"),\n",
        "word_extractor(\"I don't love eating cake\"))\n"
      ],
      "execution_count": 13,
      "outputs": [
        {
          "output_type": "stream",
          "text": [
            " love taste cake  hate heat  love machine learning  love homework supposed rest day  n't love eating cake\n"
          ],
          "name": "stdout"
        }
      ]
    },
    {
      "cell_type": "markdown",
      "metadata": {
        "id": "YNHtwGMKpb3O",
        "colab_type": "text"
      },
      "source": [
        "Sin duda alguna, acabamos de realizar la parte más importante de la tarea. Y es que realizar un buen pre procesamiento de ellos para entregarlos a nuestro modelo es crucial.\n",
        "\n",
        "Debido a que estamos trabajando con reseñas, muchas de ellas están escritas en mayusuculas, poseen muchos artículos y conectores que pueden confundir a nuestro modelo. Entonces lo que buscamos es estudiar las palabras esenciales de las cuales podemos deducir si la reseña a estudiar es positiva o negativa.\n",
        "En lo ejemplo anteriores, podemos ver que la oración 'I HATE THE HEAT' queda transformada a 'HATE HEAT', lo cual es el cuerpo indispensable de nuestra reseña y que nos hace inmediatamente identificar que la frase es negativa.\n",
        "Lo anterior es lo que se busc ( y se hizo ) hacer con todas las oraciones de nuestro conjunto de entrenamiento para que nuestro modelo aprena a identificar las palabras que hacen de la oración positiva o negativa. "
      ]
    },
    {
      "cell_type": "code",
      "metadata": {
        "id": "heW7CYbquXix",
        "colab_type": "code",
        "colab": {}
      },
      "source": [
        "texts_train = [word_extractor(text) for text in df_train_text]\n",
        "texts_val = [word_extractor(text) for text in df_val_text]\n",
        "texts_test = [word_extractor(text) for text in df_test_text]"
      ],
      "execution_count": 0,
      "outputs": []
    },
    {
      "cell_type": "markdown",
      "metadata": {
        "id": "dK63KM7Gr2WS",
        "colab_type": "text"
      },
      "source": [
        "Ya con los cuerpo de las oraciones en mano, debemos transformar los datos de tal manera que se los podamos entregar a nuestro modelo, ya que no podemos entregarle solamente strings porque...bueno, sólo son strings para nuestra máquina.\n",
        "\n",
        "Existen distintas formas de procesar los datos de texto (como el one-hot-vector o el embbeding). Lo que hicimos, fue utilizar el vocabulario base de nuestro conjunto de entrenamiento (en principio utilizamos todas palabras, incluso las de frecuencia 1) y creamos una matriz de NxV, donde N es la cantidad de oraciones en nuestro conjunto de entrenamiento (2843) y V es la cantindad de palabras distintas en nuestro conjunto de entrenamiento (8645). Notar que esta cantidad de palabras, son aquellas palabras ya transformadas a minúsculas y con los artículos y conectores removidos. Por lo tanto, la mayoría de ellas son esenciales."
      ]
    },
    {
      "cell_type": "code",
      "metadata": {
        "id": "tfXqLdjJ7846",
        "colab_type": "code",
        "colab": {}
      },
      "source": [
        ""
      ],
      "execution_count": 0,
      "outputs": []
    },
    {
      "cell_type": "code",
      "metadata": {
        "id": "TF2NJhAj4Jfi",
        "colab_type": "code",
        "colab": {}
      },
      "source": [
        "#D)\n",
        "from sklearn.feature_extraction.text import CountVectorizer\n",
        "vectorizer = CountVectorizer(ngram_range=(1, 1), binary=False) #TF representation\n",
        "vectorizer.fit(texts_train)\n",
        "features_train = vectorizer.transform(texts_train)\n",
        "features_val = vectorizer.transform(texts_val)\n",
        "features_test= vectorizer.transform(texts_test)\n",
        "#transform val and test\n",
        "vocab = vectorizer.get_feature_names() #Palabras en nuestro vocabulario = 8595\n",
        "dist=list(np.array(features_train.sum(axis=0)).reshape(-1,))"
      ],
      "execution_count": 0,
      "outputs": []
    },
    {
      "cell_type": "markdown",
      "metadata": {
        "id": "szdA_FNp8N0Q",
        "colab_type": "text"
      },
      "source": [
        "Podemos observar que cada entrada de nuestro conjunto de entrenamiento es un vector que mide la frecuencia de cada palabra en la oración."
      ]
    },
    {
      "cell_type": "code",
      "metadata": {
        "id": "WbmXP7oc7usw",
        "colab_type": "code",
        "outputId": "5f4629f2-d8ab-45de-d977-01ff40e9c2b1",
        "colab": {
          "base_uri": "https://localhost:8080/",
          "height": 629
        }
      },
      "source": [
        "print('Largo de nuestro vocabulario: ' ,len(vocab))\n",
        "print(features_train.shape)\n",
        "for k in features_train[0]:\n",
        "  print(k)\n",
        "for k in texts_train[0].split(' '):\n",
        "  if k in vocab:\n",
        "    print(k)"
      ],
      "execution_count": 16,
      "outputs": [
        {
          "output_type": "stream",
          "text": [
            "Largo de nuestro vocabulario:  8592\n",
            "(2843, 8592)\n",
            "  (0, 866)\t1\n",
            "  (0, 2101)\t1\n",
            "  (0, 2386)\t1\n",
            "  (0, 2471)\t1\n",
            "  (0, 3856)\t1\n",
            "  (0, 4176)\t1\n",
            "  (0, 4765)\t1\n",
            "  (0, 4798)\t1\n",
            "  (0, 4923)\t1\n",
            "  (0, 4971)\t1\n",
            "  (0, 5100)\t1\n",
            "  (0, 5256)\t1\n",
            "  (0, 6677)\t1\n",
            "  (0, 6997)\t1\n",
            "  (0, 7063)\t1\n",
            "  (0, 7112)\t1\n",
            "  (0, 7631)\t1\n",
            "  (0, 8345)\t1\n",
            "  (0, 8500)\t1\n",
            "mesh\n",
            "incarnated\n",
            "movie\n",
            "soundtrack\n",
            "joyful\n",
            "effusion\n",
            "disco\n",
            "bollywood\n",
            "end\n",
            "monsoon\n",
            "wedding\n",
            "sent\n",
            "spirit\n",
            "soaring\n",
            "theater\n"
          ],
          "name": "stdout"
        }
      ]
    },
    {
      "cell_type": "markdown",
      "metadata": {
        "id": "yRTTyQsptTj5",
        "colab_type": "text"
      },
      "source": [
        "Abajo se pueden observar una tabla que muestra las 10 palabras más frecuentes, siendo liderada por la palabra 'film'. Abajo de este cuadro, es posible ver la gráfica de cómo se distribuyen estas palabras y claramente podemos apreciar que cumple la ley Zipf (que se distribuyen de forma exponencial, con coeficiente un poco menor que -1)"
      ]
    },
    {
      "cell_type": "code",
      "metadata": {
        "id": "eSqN7DrWEoyn",
        "colab_type": "code",
        "outputId": "68e50ecf-d8a9-48ac-e245-3350ab34ec35",
        "colab": {
          "base_uri": "https://localhost:8080/",
          "height": 359
        }
      },
      "source": [
        "#Notar que cumple la ley zipf\n",
        "data = pd.DataFrame({'Palabras': vocab, 'Frecuencia': dist})\n",
        "data = data.sort_values(by='Frecuencia', ascending = False)\n",
        "data_train = data.set_index(np.arange(0,data.shape[0]))\n",
        "\n",
        "data_train.head(10)\n",
        "#plt.plot(np.log(data1['Frecuencia']), 'x')"
      ],
      "execution_count": 17,
      "outputs": [
        {
          "output_type": "execute_result",
          "data": {
            "text/html": [
              "<div>\n",
              "<style scoped>\n",
              "    .dataframe tbody tr th:only-of-type {\n",
              "        vertical-align: middle;\n",
              "    }\n",
              "\n",
              "    .dataframe tbody tr th {\n",
              "        vertical-align: top;\n",
              "    }\n",
              "\n",
              "    .dataframe thead th {\n",
              "        text-align: right;\n",
              "    }\n",
              "</style>\n",
              "<table border=\"1\" class=\"dataframe\">\n",
              "  <thead>\n",
              "    <tr style=\"text-align: right;\">\n",
              "      <th></th>\n",
              "      <th>Palabras</th>\n",
              "      <th>Frecuencia</th>\n",
              "    </tr>\n",
              "  </thead>\n",
              "  <tbody>\n",
              "    <tr>\n",
              "      <th>0</th>\n",
              "      <td>film</td>\n",
              "      <td>456</td>\n",
              "    </tr>\n",
              "    <tr>\n",
              "      <th>1</th>\n",
              "      <td>movie</td>\n",
              "      <td>426</td>\n",
              "    </tr>\n",
              "    <tr>\n",
              "      <th>2</th>\n",
              "      <td>like</td>\n",
              "      <td>211</td>\n",
              "    </tr>\n",
              "    <tr>\n",
              "      <th>3</th>\n",
              "      <td>one</td>\n",
              "      <td>205</td>\n",
              "    </tr>\n",
              "    <tr>\n",
              "      <th>4</th>\n",
              "      <td>ha</td>\n",
              "      <td>192</td>\n",
              "    </tr>\n",
              "    <tr>\n",
              "      <th>5</th>\n",
              "      <td>make</td>\n",
              "      <td>146</td>\n",
              "    </tr>\n",
              "    <tr>\n",
              "      <th>6</th>\n",
              "      <td>story</td>\n",
              "      <td>139</td>\n",
              "    </tr>\n",
              "    <tr>\n",
              "      <th>7</th>\n",
              "      <td>character</td>\n",
              "      <td>128</td>\n",
              "    </tr>\n",
              "    <tr>\n",
              "      <th>8</th>\n",
              "      <td>good</td>\n",
              "      <td>123</td>\n",
              "    </tr>\n",
              "    <tr>\n",
              "      <th>9</th>\n",
              "      <td>comedy</td>\n",
              "      <td>120</td>\n",
              "    </tr>\n",
              "  </tbody>\n",
              "</table>\n",
              "</div>"
            ],
            "text/plain": [
              "    Palabras  Frecuencia\n",
              "0       film         456\n",
              "1      movie         426\n",
              "2       like         211\n",
              "3        one         205\n",
              "4         ha         192\n",
              "5       make         146\n",
              "6      story         139\n",
              "7  character         128\n",
              "8       good         123\n",
              "9     comedy         120"
            ]
          },
          "metadata": {
            "tags": []
          },
          "execution_count": 17
        }
      ]
    },
    {
      "cell_type": "code",
      "metadata": {
        "id": "E5dzsWvVtQcM",
        "colab_type": "code",
        "outputId": "ef580fdc-1da2-4573-a671-8dc9343b738c",
        "colab": {
          "base_uri": "https://localhost:8080/",
          "height": 282
        }
      },
      "source": [
        "plt.plot(data_train['Frecuencia'], 'x')\n",
        "plt.annotate('film', xy=(0,data_train['Frecuencia'].values[0] ), xytext=(200, 440),)"
      ],
      "execution_count": 18,
      "outputs": [
        {
          "output_type": "execute_result",
          "data": {
            "text/plain": [
              "Text(200, 440, 'film')"
            ]
          },
          "metadata": {
            "tags": []
          },
          "execution_count": 18
        },
        {
          "output_type": "display_data",
          "data": {
            "image/png": "[encoded data removed]",
            "text/plain": [
              "<Figure size 432x288 with 1 Axes>"
            ]
          },
          "metadata": {
            "tags": []
          }
        }
      ]
    },
    {
      "cell_type": "markdown",
      "metadata": {
        "id": "-cY8ivR-t_Jn",
        "colab_type": "text"
      },
      "source": [
        "Luego de vectorizar las palabras, realizamos un representación D de los datos para estudiar algún tipo de comportamiento que tengan las categorias. Gracias a la imagen de abajo, es posible ver que ambas categorias se comportan de manera similar en cuanto a la semántica de las oraciones respecta y siguen los mismo patrones, por lo tanto no es posible destacar algo, a priori, de alguna de las categorias. Tal vez que el problema se comporta lineal de cierta forma, pero no se puede asegurar.\n",
        "\n",
        "Si bien, en base a la imagen es posible colegir que la frontera entre ellos es no-lineal, no es posible asegurar lo anterior debido a que los vector son de dimensión 8645 (cantidad de palabras) por lo tanto, la noción que estamos viendo ahora se pierde en dimensiones tan grandes. "
      ]
    },
    {
      "cell_type": "code",
      "metadata": {
        "id": "j6uGsCueW6pl",
        "colab_type": "code",
        "outputId": "5b87caad-84cd-4e9a-cfdf-f17e46dbb093",
        "colab": {
          "base_uri": "https://localhost:8080/",
          "height": 320
        }
      },
      "source": [
        "data1 = pd.DataFrame({'Palabras': vocab, 'Frecuencia_test':list(np.array(features_test.sum(axis=0)).reshape(-1,))})\n",
        "data1= data1.sort_values(by='Frecuencia_test', ascending = False)\n",
        "data_test = data1.set_index(np.arange(0,data1.shape[0]))\n",
        "\n",
        "#E)\n",
        "\n",
        "from sklearn.decomposition import TruncatedSVD\n",
        "model = TruncatedSVD(n_components=2)\n",
        "model.fit(features_train)\n",
        "x_plot = model.transform(features_train)\n",
        "plt.figure(figsize=(10,5))\n",
        "plt.scatter(x_plot[:,0], x_plot[:,1], c=labels_train)\n",
        "plt.show()"
      ],
      "execution_count": 19,
      "outputs": [
        {
          "output_type": "display_data",
          "data": {
            "image/png": "[encoded data removed]",
            "text/plain": [
              "<Figure size 720x360 with 1 Axes>"
            ]
          },
          "metadata": {
            "tags": []
          }
        }
      ]
    },
    {
      "cell_type": "markdown",
      "metadata": {
        "id": "QDD-AnjVuIoO",
        "colab_type": "text"
      },
      "source": [
        "A continuación se entrenarán 5 modelos distintos de nuestro espacio de hipótesis, a saber, un modelo de regresión logística, una SVM, un k-NN, un árbol de decisión y una red neuronal. En cada uno de ellos, se iterará un parámetro específico de cada modelo, y se graficarán los errores. Se compararán los modelos y al final de esto, discutiremos cuál fue mejor."
      ]
    },
    {
      "cell_type": "code",
      "metadata": {
        "id": "_NBTj5DXA81O",
        "colab_type": "code",
        "outputId": "02f6f0aa-bbba-4eaf-e9da-7c11a4a6fd76",
        "colab": {
          "base_uri": "https://localhost:8080/",
          "height": 502
        }
      },
      "source": [
        "#Regresión Logística\n",
        "\n",
        "from sklearn.linear_model import LogisticRegression\n",
        "from sklearn.linear_model import Ridge\n",
        "\n",
        "from sklearn.linear_model import LogisticRegression\n",
        "def do_LOGIT(x,y,xv,yv, param):\n",
        "    print(\"Param C= \",param)\n",
        "    model= LogisticRegression()\n",
        "    model.set_params(C=param)\n",
        "    model.fit(x,y)\n",
        "    train_acc = model.score(x,y)\n",
        "    test_acc = model.score(xv,yv)\n",
        "    return model, train_acc, test_acc\n",
        "Cs = [10**i for i in np.arange(-4,4, dtype = 'float')]\n",
        "\n",
        "train_log_acc = []\n",
        "val_log_acc = []\n",
        "for k in Cs:\n",
        "  a,b,c = do_LOGIT(features_train, labels_train, features_val, labels_val, k)\n",
        "  train_log_acc = train_log_acc + [b]\n",
        "  val_log_acc = val_log_acc + [c]\n",
        "\n",
        "plt.plot(np.log10(Cs), train_log_acc, 'x', label = 'Train acc')\n",
        "plt.plot(np.log10(Cs), val_log_acc, 'o', label= 'Val acc')\n",
        "plt.xlabel('Log10 parametro')\n",
        "plt.ylabel('Accuracy')\n",
        "plt.title('Logistic regression')\n",
        "plt.legend()\n",
        "\n",
        "print('Accuracy Máxima es ', max(val_log_acc), ' y se alcanza en el parámetro C= ', Cs[np.argwhere(val_log_acc==max(val_log_acc))[0][0]] )"
      ],
      "execution_count": 20,
      "outputs": [
        {
          "output_type": "stream",
          "text": [
            "Param C=  0.0001\n",
            "Param C=  0.001\n",
            "Param C=  0.01\n",
            "Param C=  0.1\n",
            "Param C=  1.0\n",
            "Param C=  10.0\n",
            "Param C=  100.0\n",
            "Param C=  1000.0\n",
            "Accuracy Máxima es  0.7158931082981715  y se alcanza en el parámetro C=  1.0\n"
          ],
          "name": "stdout"
        },
        {
          "output_type": "stream",
          "text": [
            "/usr/local/lib/python3.6/dist-packages/sklearn/linear_model/logistic.py:432: FutureWarning: Default solver will be changed to 'lbfgs' in 0.22. Specify a solver to silence this warning.\n",
            "  FutureWarning)\n"
          ],
          "name": "stderr"
        },
        {
          "output_type": "display_data",
          "data": {
            "image/png": "[encoded data removed]",
            "text/plain": [
              "<Figure size 432x288 with 1 Axes>"
            ]
          },
          "metadata": {
            "tags": []
          }
        }
      ]
    },
    {
      "cell_type": "markdown",
      "metadata": {
        "id": "2k3DR99zKekF",
        "colab_type": "text"
      },
      "source": [
        "Notemos que el mejor parámetro para el caso de la regresión logística se da para C=0.1, obteniendo un acc de 0.73 aproxiamadamente. Debemos destacar que este parámetro en el código es la inversa del parámetro en el regularizador, por lo tanto a valores más pequeño, la regularización es más fuerte. \n",
        "Es por eso que para C=0.0001 el accuracy es menor debido a que le estamos pidiendo mucho a los parámetros del problema para que no se anulen. Para dicho C, el accuracy es menor a 0.65.\n",
        "\n",
        "Tiene sentido que el valor sea cercano a C=1 (de hecho en la gráfica es posible ver el acc entre 0.1 y 1 es casi similar), nos muestra que la mayoría de las palabras en el problema son importantes. La diferencia que debe estar ocurriendo debe ser entre aquellas de poca frecuencia en nuestro vocabulario, lo cual será revisado con más detalle en las preguntas finales cuando se realiza un pre-procesamiento distinto de los datos."
      ]
    },
    {
      "cell_type": "code",
      "metadata": {
        "id": "lieFCuxwjjOh",
        "colab_type": "code",
        "outputId": "39a5412c-f0d3-489c-e4cf-995c8a465dec",
        "colab": {
          "base_uri": "https://localhost:8080/",
          "height": 1000
        }
      },
      "source": [
        "#SVM\n",
        "from sklearn.svm import SVC as SVM #SVC is for classification\n",
        "\n",
        "def do_SVM(x,y,xv,yv, C, kernel):\n",
        "    print(\"Param C= \",C, 'Kernel= ', kernel)\n",
        "    model= SVM()\n",
        "    model.set_params(C=C,kernel=kernel) \n",
        "    model.fit(x,y)\n",
        "    train_acc = model.score(x,y)\n",
        "    test_acc = model.score(xv,yv)\n",
        "    return model, train_acc, test_acc\n",
        "Cs = [10**i for i in np.arange(-4,4, dtype = 'float')]\n",
        "\n",
        "svm_train_acc1 = []\n",
        "svm_val_acc1 = []\n",
        "\n",
        "for k in Cs:\n",
        "  a,b,c = do_SVM(features_train, labels_train, features_val, labels_val, k, 'linear')\n",
        "  svm_train_acc1 = svm_train_acc1 + [b]\n",
        "  svm_val_acc1 = svm_val_acc1 + [c]\n",
        "\n",
        "svm_train_acc2 = []\n",
        "svm_val_acc2 = []\n",
        "for k in Cs:\n",
        "  a,b,c = do_SVM(features_train, labels_train, features_val, labels_val, k, 'rbf')\n",
        "  svm_train_acc2 = svm_train_acc2 + [b]\n",
        "  svm_val_acc2 = svm_val_acc2 + [c]\n",
        "\n",
        "svm_train_acc3 = []\n",
        "svm_val_acc3 = []\n",
        "for k in Cs:\n",
        "  a,b,c = do_SVM(features_train, labels_train, features_val, labels_val, k, 'sigmoid')\n",
        "  svm_train_acc3 = svm_train_acc3 + [b]\n",
        "  svm_val_acc3 = svm_val_acc3 + [c]\n",
        "\n",
        "svm_train_acc4 = []\n",
        "svm_val_acc4 = []\n",
        "for k in Cs:\n",
        "  a,b,c = do_SVM(features_train, labels_train, features_val, labels_val, k, 'poly')\n",
        "  svm_train_acc4 = svm_train_acc4 + [b]\n",
        "  svm_val_acc4 = svm_val_acc4 + [c]\n",
        "\n"
      ],
      "execution_count": 21,
      "outputs": [
        {
          "output_type": "stream",
          "text": [
            "Param C=  0.0001 Kernel=  linear\n",
            "Param C=  0.001 Kernel=  linear\n",
            "Param C=  0.01 Kernel=  linear\n",
            "Param C=  0.1 Kernel=  linear\n",
            "Param C=  1.0 Kernel=  linear\n",
            "Param C=  10.0 Kernel=  linear\n",
            "Param C=  100.0 Kernel=  linear\n",
            "Param C=  1000.0 Kernel=  linear\n",
            "Param C=  0.0001 Kernel=  rbf\n"
          ],
          "name": "stdout"
        },
        {
          "output_type": "stream",
          "text": [
            "/usr/local/lib/python3.6/dist-packages/sklearn/svm/base.py:193: FutureWarning: The default value of gamma will change from 'auto' to 'scale' in version 0.22 to account better for unscaled features. Set gamma explicitly to 'auto' or 'scale' to avoid this warning.\n",
            "  \"avoid this warning.\", FutureWarning)\n"
          ],
          "name": "stderr"
        },
        {
          "output_type": "stream",
          "text": [
            "Param C=  0.001 Kernel=  rbf\n"
          ],
          "name": "stdout"
        },
        {
          "output_type": "stream",
          "text": [
            "/usr/local/lib/python3.6/dist-packages/sklearn/svm/base.py:193: FutureWarning: The default value of gamma will change from 'auto' to 'scale' in version 0.22 to account better for unscaled features. Set gamma explicitly to 'auto' or 'scale' to avoid this warning.\n",
            "  \"avoid this warning.\", FutureWarning)\n"
          ],
          "name": "stderr"
        },
        {
          "output_type": "stream",
          "text": [
            "Param C=  0.01 Kernel=  rbf\n"
          ],
          "name": "stdout"
        },
        {
          "output_type": "stream",
          "text": [
            "/usr/local/lib/python3.6/dist-packages/sklearn/svm/base.py:193: FutureWarning: The default value of gamma will change from 'auto' to 'scale' in version 0.22 to account better for unscaled features. Set gamma explicitly to 'auto' or 'scale' to avoid this warning.\n",
            "  \"avoid this warning.\", FutureWarning)\n"
          ],
          "name": "stderr"
        },
        {
          "output_type": "stream",
          "text": [
            "Param C=  0.1 Kernel=  rbf\n"
          ],
          "name": "stdout"
        },
        {
          "output_type": "stream",
          "text": [
            "/usr/local/lib/python3.6/dist-packages/sklearn/svm/base.py:193: FutureWarning: The default value of gamma will change from 'auto' to 'scale' in version 0.22 to account better for unscaled features. Set gamma explicitly to 'auto' or 'scale' to avoid this warning.\n",
            "  \"avoid this warning.\", FutureWarning)\n"
          ],
          "name": "stderr"
        },
        {
          "output_type": "stream",
          "text": [
            "Param C=  1.0 Kernel=  rbf\n"
          ],
          "name": "stdout"
        },
        {
          "output_type": "stream",
          "text": [
            "/usr/local/lib/python3.6/dist-packages/sklearn/svm/base.py:193: FutureWarning: The default value of gamma will change from 'auto' to 'scale' in version 0.22 to account better for unscaled features. Set gamma explicitly to 'auto' or 'scale' to avoid this warning.\n",
            "  \"avoid this warning.\", FutureWarning)\n"
          ],
          "name": "stderr"
        },
        {
          "output_type": "stream",
          "text": [
            "Param C=  10.0 Kernel=  rbf\n"
          ],
          "name": "stdout"
        },
        {
          "output_type": "stream",
          "text": [
            "/usr/local/lib/python3.6/dist-packages/sklearn/svm/base.py:193: FutureWarning: The default value of gamma will change from 'auto' to 'scale' in version 0.22 to account better for unscaled features. Set gamma explicitly to 'auto' or 'scale' to avoid this warning.\n",
            "  \"avoid this warning.\", FutureWarning)\n"
          ],
          "name": "stderr"
        },
        {
          "output_type": "stream",
          "text": [
            "Param C=  100.0 Kernel=  rbf\n"
          ],
          "name": "stdout"
        },
        {
          "output_type": "stream",
          "text": [
            "/usr/local/lib/python3.6/dist-packages/sklearn/svm/base.py:193: FutureWarning: The default value of gamma will change from 'auto' to 'scale' in version 0.22 to account better for unscaled features. Set gamma explicitly to 'auto' or 'scale' to avoid this warning.\n",
            "  \"avoid this warning.\", FutureWarning)\n"
          ],
          "name": "stderr"
        },
        {
          "output_type": "stream",
          "text": [
            "Param C=  1000.0 Kernel=  rbf\n"
          ],
          "name": "stdout"
        },
        {
          "output_type": "stream",
          "text": [
            "/usr/local/lib/python3.6/dist-packages/sklearn/svm/base.py:193: FutureWarning: The default value of gamma will change from 'auto' to 'scale' in version 0.22 to account better for unscaled features. Set gamma explicitly to 'auto' or 'scale' to avoid this warning.\n",
            "  \"avoid this warning.\", FutureWarning)\n"
          ],
          "name": "stderr"
        },
        {
          "output_type": "stream",
          "text": [
            "Param C=  0.0001 Kernel=  sigmoid\n"
          ],
          "name": "stdout"
        },
        {
          "output_type": "stream",
          "text": [
            "/usr/local/lib/python3.6/dist-packages/sklearn/svm/base.py:193: FutureWarning: The default value of gamma will change from 'auto' to 'scale' in version 0.22 to account better for unscaled features. Set gamma explicitly to 'auto' or 'scale' to avoid this warning.\n",
            "  \"avoid this warning.\", FutureWarning)\n"
          ],
          "name": "stderr"
        },
        {
          "output_type": "stream",
          "text": [
            "Param C=  0.001 Kernel=  sigmoid\n"
          ],
          "name": "stdout"
        },
        {
          "output_type": "stream",
          "text": [
            "/usr/local/lib/python3.6/dist-packages/sklearn/svm/base.py:193: FutureWarning: The default value of gamma will change from 'auto' to 'scale' in version 0.22 to account better for unscaled features. Set gamma explicitly to 'auto' or 'scale' to avoid this warning.\n",
            "  \"avoid this warning.\", FutureWarning)\n"
          ],
          "name": "stderr"
        },
        {
          "output_type": "stream",
          "text": [
            "Param C=  0.01 Kernel=  sigmoid\n"
          ],
          "name": "stdout"
        },
        {
          "output_type": "stream",
          "text": [
            "/usr/local/lib/python3.6/dist-packages/sklearn/svm/base.py:193: FutureWarning: The default value of gamma will change from 'auto' to 'scale' in version 0.22 to account better for unscaled features. Set gamma explicitly to 'auto' or 'scale' to avoid this warning.\n",
            "  \"avoid this warning.\", FutureWarning)\n"
          ],
          "name": "stderr"
        },
        {
          "output_type": "stream",
          "text": [
            "Param C=  0.1 Kernel=  sigmoid\n"
          ],
          "name": "stdout"
        },
        {
          "output_type": "stream",
          "text": [
            "/usr/local/lib/python3.6/dist-packages/sklearn/svm/base.py:193: FutureWarning: The default value of gamma will change from 'auto' to 'scale' in version 0.22 to account better for unscaled features. Set gamma explicitly to 'auto' or 'scale' to avoid this warning.\n",
            "  \"avoid this warning.\", FutureWarning)\n"
          ],
          "name": "stderr"
        },
        {
          "output_type": "stream",
          "text": [
            "Param C=  1.0 Kernel=  sigmoid\n"
          ],
          "name": "stdout"
        },
        {
          "output_type": "stream",
          "text": [
            "/usr/local/lib/python3.6/dist-packages/sklearn/svm/base.py:193: FutureWarning: The default value of gamma will change from 'auto' to 'scale' in version 0.22 to account better for unscaled features. Set gamma explicitly to 'auto' or 'scale' to avoid this warning.\n",
            "  \"avoid this warning.\", FutureWarning)\n"
          ],
          "name": "stderr"
        },
        {
          "output_type": "stream",
          "text": [
            "Param C=  10.0 Kernel=  sigmoid\n"
          ],
          "name": "stdout"
        },
        {
          "output_type": "stream",
          "text": [
            "/usr/local/lib/python3.6/dist-packages/sklearn/svm/base.py:193: FutureWarning: The default value of gamma will change from 'auto' to 'scale' in version 0.22 to account better for unscaled features. Set gamma explicitly to 'auto' or 'scale' to avoid this warning.\n",
            "  \"avoid this warning.\", FutureWarning)\n"
          ],
          "name": "stderr"
        },
        {
          "output_type": "stream",
          "text": [
            "Param C=  100.0 Kernel=  sigmoid\n"
          ],
          "name": "stdout"
        },
        {
          "output_type": "stream",
          "text": [
            "/usr/local/lib/python3.6/dist-packages/sklearn/svm/base.py:193: FutureWarning: The default value of gamma will change from 'auto' to 'scale' in version 0.22 to account better for unscaled features. Set gamma explicitly to 'auto' or 'scale' to avoid this warning.\n",
            "  \"avoid this warning.\", FutureWarning)\n"
          ],
          "name": "stderr"
        },
        {
          "output_type": "stream",
          "text": [
            "Param C=  1000.0 Kernel=  sigmoid\n"
          ],
          "name": "stdout"
        },
        {
          "output_type": "stream",
          "text": [
            "/usr/local/lib/python3.6/dist-packages/sklearn/svm/base.py:193: FutureWarning: The default value of gamma will change from 'auto' to 'scale' in version 0.22 to account better for unscaled features. Set gamma explicitly to 'auto' or 'scale' to avoid this warning.\n",
            "  \"avoid this warning.\", FutureWarning)\n"
          ],
          "name": "stderr"
        },
        {
          "output_type": "stream",
          "text": [
            "Param C=  0.0001 Kernel=  poly\n"
          ],
          "name": "stdout"
        },
        {
          "output_type": "stream",
          "text": [
            "/usr/local/lib/python3.6/dist-packages/sklearn/svm/base.py:193: FutureWarning: The default value of gamma will change from 'auto' to 'scale' in version 0.22 to account better for unscaled features. Set gamma explicitly to 'auto' or 'scale' to avoid this warning.\n",
            "  \"avoid this warning.\", FutureWarning)\n"
          ],
          "name": "stderr"
        },
        {
          "output_type": "stream",
          "text": [
            "Param C=  0.001 Kernel=  poly\n"
          ],
          "name": "stdout"
        },
        {
          "output_type": "stream",
          "text": [
            "/usr/local/lib/python3.6/dist-packages/sklearn/svm/base.py:193: FutureWarning: The default value of gamma will change from 'auto' to 'scale' in version 0.22 to account better for unscaled features. Set gamma explicitly to 'auto' or 'scale' to avoid this warning.\n",
            "  \"avoid this warning.\", FutureWarning)\n"
          ],
          "name": "stderr"
        },
        {
          "output_type": "stream",
          "text": [
            "Param C=  0.01 Kernel=  poly\n"
          ],
          "name": "stdout"
        },
        {
          "output_type": "stream",
          "text": [
            "/usr/local/lib/python3.6/dist-packages/sklearn/svm/base.py:193: FutureWarning: The default value of gamma will change from 'auto' to 'scale' in version 0.22 to account better for unscaled features. Set gamma explicitly to 'auto' or 'scale' to avoid this warning.\n",
            "  \"avoid this warning.\", FutureWarning)\n"
          ],
          "name": "stderr"
        },
        {
          "output_type": "stream",
          "text": [
            "Param C=  0.1 Kernel=  poly\n"
          ],
          "name": "stdout"
        },
        {
          "output_type": "stream",
          "text": [
            "/usr/local/lib/python3.6/dist-packages/sklearn/svm/base.py:193: FutureWarning: The default value of gamma will change from 'auto' to 'scale' in version 0.22 to account better for unscaled features. Set gamma explicitly to 'auto' or 'scale' to avoid this warning.\n",
            "  \"avoid this warning.\", FutureWarning)\n"
          ],
          "name": "stderr"
        },
        {
          "output_type": "stream",
          "text": [
            "Param C=  1.0 Kernel=  poly\n"
          ],
          "name": "stdout"
        },
        {
          "output_type": "stream",
          "text": [
            "/usr/local/lib/python3.6/dist-packages/sklearn/svm/base.py:193: FutureWarning: The default value of gamma will change from 'auto' to 'scale' in version 0.22 to account better for unscaled features. Set gamma explicitly to 'auto' or 'scale' to avoid this warning.\n",
            "  \"avoid this warning.\", FutureWarning)\n"
          ],
          "name": "stderr"
        },
        {
          "output_type": "stream",
          "text": [
            "Param C=  10.0 Kernel=  poly\n"
          ],
          "name": "stdout"
        },
        {
          "output_type": "stream",
          "text": [
            "/usr/local/lib/python3.6/dist-packages/sklearn/svm/base.py:193: FutureWarning: The default value of gamma will change from 'auto' to 'scale' in version 0.22 to account better for unscaled features. Set gamma explicitly to 'auto' or 'scale' to avoid this warning.\n",
            "  \"avoid this warning.\", FutureWarning)\n"
          ],
          "name": "stderr"
        },
        {
          "output_type": "stream",
          "text": [
            "Param C=  100.0 Kernel=  poly\n"
          ],
          "name": "stdout"
        },
        {
          "output_type": "stream",
          "text": [
            "/usr/local/lib/python3.6/dist-packages/sklearn/svm/base.py:193: FutureWarning: The default value of gamma will change from 'auto' to 'scale' in version 0.22 to account better for unscaled features. Set gamma explicitly to 'auto' or 'scale' to avoid this warning.\n",
            "  \"avoid this warning.\", FutureWarning)\n"
          ],
          "name": "stderr"
        },
        {
          "output_type": "stream",
          "text": [
            "Param C=  1000.0 Kernel=  poly\n"
          ],
          "name": "stdout"
        },
        {
          "output_type": "stream",
          "text": [
            "/usr/local/lib/python3.6/dist-packages/sklearn/svm/base.py:193: FutureWarning: The default value of gamma will change from 'auto' to 'scale' in version 0.22 to account better for unscaled features. Set gamma explicitly to 'auto' or 'scale' to avoid this warning.\n",
            "  \"avoid this warning.\", FutureWarning)\n"
          ],
          "name": "stderr"
        }
      ]
    },
    {
      "cell_type": "code",
      "metadata": {
        "id": "dJO_-5ClqhVR",
        "colab_type": "code",
        "outputId": "9cf9adc6-90f1-4463-bf24-9068eff29f3c",
        "colab": {
          "base_uri": "https://localhost:8080/",
          "height": 850
        }
      },
      "source": [
        "\n",
        "\n",
        "\n",
        "plt.figure(figsize = (12,12))\n",
        "plt.subplot(2,2,1)\n",
        "plt.plot(np.log10(Cs), svm_train_acc1, '--', label = 'Train acc', markersize = 10)\n",
        "plt.plot(np.log10(Cs), svm_val_acc1, '--', label = 'Val acc')\n",
        "plt.xlabel('Log Parámetro')\n",
        "plt.ylabel('Accuracy')\n",
        "plt.title('Linear accuracy comparison')\n",
        "plt.legend()\n",
        "\n",
        "plt.subplot(2,2,2)\n",
        "plt.plot(np.log10(Cs), svm_train_acc2, '--', label = 'Train acc', markersize = 10)\n",
        "plt.plot(np.log10(Cs), svm_val_acc2, '--', label = 'Val acc')\n",
        "plt.xlabel('Log Parámetro')\n",
        "plt.ylabel('Accuracy')\n",
        "plt.title('RBF accuracy comparison')\n",
        "plt.legend()\n",
        "\n",
        "\n",
        "plt.subplot(2,2,3)\n",
        "plt.plot(np.log10(Cs), svm_train_acc3, '--', label = 'Train acc', markersize = 10)\n",
        "plt.plot(np.log10(Cs), svm_val_acc3, '--', label = 'Val acc')\n",
        "plt.xlabel('Log Parámetro')\n",
        "plt.ylabel('Accuracy')\n",
        "plt.title('sigmoid accuracy comparison')\n",
        "plt.legend()\n",
        "\n",
        "plt.subplot(2,2,4)\n",
        "plt.plot(np.log10(Cs), svm_train_acc4, '--', label = 'Train acc', markersize = 10)\n",
        "plt.plot(np.log10(Cs), svm_val_acc4, '--', label = 'Val acc')\n",
        "plt.xlabel('Log Parámetro')\n",
        "plt.ylabel('Accuracy')\n",
        "plt.title('Polynomial accuracy comparison')\n",
        "plt.legend()\n",
        "\n",
        "\n",
        "print('Accuracy máxima del caso lineal es ', max(svm_val_acc1),' y se alcanza en el parámetro C= ',\n",
        "      Cs[np.argwhere(svm_val_acc1==max(svm_val_acc1))[0][0]], '\\n' )\n",
        "print('Accuracy máxima del caso rbf es ', max(svm_val_acc2),' y se alcanza en el parámetro C= ',\n",
        "      Cs[np.argwhere(svm_val_acc2==max(svm_val_acc2))[0][0]], '\\n' )\n",
        "print('Accuracy máxima del caso sigmoid es ', max(svm_val_acc3),' y se alcanza en el parámetro C= ',\n",
        "      Cs[np.argwhere(svm_val_acc3==max(svm_val_acc3))[0][0]], '\\n')\n",
        "print('Accuracy máxima del caso polinomial es ', max(svm_val_acc4),' y se alcanza en el parámetro C= ',\n",
        "      Cs[np.argwhere(svm_val_acc4==max(svm_val_acc4))[0][0]])"
      ],
      "execution_count": 22,
      "outputs": [
        {
          "output_type": "stream",
          "text": [
            "Accuracy máxima del caso lineal es  0.7060478199718706  y se alcanza en el parámetro C=  0.1 \n",
            "\n",
            "Accuracy máxima del caso rbf es  0.7046413502109705  y se alcanza en el parámetro C=  1000.0 \n",
            "\n",
            "Accuracy máxima del caso sigmoid es  0.7088607594936709  y se alcanza en el parámetro C=  1000.0 \n",
            "\n",
            "Accuracy máxima del caso polinomial es  0.5021097046413502  y se alcanza en el parámetro C=  0.0001\n"
          ],
          "name": "stdout"
        },
        {
          "output_type": "display_data",
          "data": {
            "image/png": "[encoded data removed]",
            "text/plain": [
              "<Figure size 864x864 with 4 Axes>"
            ]
          },
          "metadata": {
            "tags": []
          }
        }
      ]
    },
    {
      "cell_type": "markdown",
      "metadata": {
        "id": "q9xFD22mLorC",
        "colab_type": "text"
      },
      "source": [
        "Sorprendentemente, la mejor máquina de soporte vectorial fue aquella que utilizó el kernel lineal. Es decir, la frontera que separa nuestros datos es un frontera que se adapta mejor al caso lineal (es decir, de un hiperplano). La mejor accuracy se da para una tolerancia de margen C=0.1 (al igual que antes, esto es el inverso del parámetro de tolerancia, por lo tanto se da para C=10 en el problema de optimización). Debido a que la penalización es en norma l2, y en el caso lineal utilizamos el modelo Ridge, no es coincidencia que en ambos casos el regularizador haya sido el mismo (considerando que estamos en el mismo conjunto de parámetros). Esto se da solamente porque nuestros datos se adaptan mejor al problema lineal, como se vio en el modelo de regresión logística. Es por ello que el acc del kernel lineal es el mejor de todos."
      ]
    },
    {
      "cell_type": "code",
      "metadata": {
        "id": "EenEtEKDjGQp",
        "colab_type": "code",
        "outputId": "c155977b-0165-44f2-bcfe-e736e808afc7",
        "colab": {
          "base_uri": "https://localhost:8080/",
          "height": 1000
        }
      },
      "source": [
        "#Red Neuronal\n",
        "\n",
        "from keras.models import Sequential\n",
        "from keras.layers import Dense\n",
        "from keras.optimizers import SGD\n",
        "def do_ANN(x,y, xv,yv, param, act):\n",
        "    print(\"Neuron hidden = \",param)\n",
        "    model = Sequential()\n",
        "    model.add(Dense(units=param, input_dim=x.shape[1], activation=act))\n",
        "    model.add(Dense(1, activation=\"sigmoid\"))\n",
        "    model.compile(optimizer=SGD(lr=0.1), loss=\"binary_crossentropy\", metrics=[\"accuracy\"])\n",
        "    model.summary()\n",
        "    model.fit(x, y, epochs=25, batch_size=128, verbose=0)\n",
        "    train_acc = model.evaluate(x,y, verbose=0) #in position 0 is the loss\n",
        "    test_acc = model.evaluate(xv,yv, verbose=0)\n",
        "    return model, train_acc, test_acc\n",
        "N_h = [2**i for i in range(1,10)]\n",
        "\n",
        "train_error = []\n",
        "val_error = []\n",
        "train_accu=[]\n",
        "val_accu = []\n",
        "for k in N_h:\n",
        "  model, train_acc, val_acc = do_ANN(features_train, labels_train, features_val, labels_val,k, 'linear')\n",
        "  train_error = train_error + [train_acc[0]]\n",
        "  val_error = val_error + [val_acc[0]] \n",
        "  train_accu = train_accu + [train_acc[1]]\n",
        "  val_accu = val_accu + [val_acc[1]]"
      ],
      "execution_count": 23,
      "outputs": [
        {
          "output_type": "stream",
          "text": [
            "Using TensorFlow backend.\n"
          ],
          "name": "stderr"
        },
        {
          "output_type": "display_data",
          "data": {
            "text/html": [
              "<p style=\"color: red;\">\n",
              "The default version of TensorFlow in Colab will soon switch to TensorFlow 2.x.<br>\n",
              "We recommend you <a href=\"https://www.tensorflow.org/guide/migrate\" target=\"_blank\">upgrade</a> now \n",
              "or ensure your notebook will continue to use TensorFlow 1.x via the <code>%tensorflow_version 1.x</code> magic:\n",
              "<a href=\"https://colab.research.google.com/notebooks/tensorflow_version.ipynb\" target=\"_blank\">more info</a>.</p>\n"
            ],
            "text/plain": [
              "<IPython.core.display.HTML object>"
            ]
          },
          "metadata": {
            "tags": []
          }
        },
        {
          "output_type": "stream",
          "text": [
            "Neuron hidden =  2\n",
            "WARNING:tensorflow:From /usr/local/lib/python3.6/dist-packages/keras/backend/tensorflow_backend.py:66: The name tf.get_default_graph is deprecated. Please use tf.compat.v1.get_default_graph instead.\n",
            "\n",
            "WARNING:tensorflow:From /usr/local/lib/python3.6/dist-packages/keras/backend/tensorflow_backend.py:541: The name tf.placeholder is deprecated. Please use tf.compat.v1.placeholder instead.\n",
            "\n",
            "WARNING:tensorflow:From /usr/local/lib/python3.6/dist-packages/keras/backend/tensorflow_backend.py:4432: The name tf.random_uniform is deprecated. Please use tf.random.uniform instead.\n",
            "\n",
            "WARNING:tensorflow:From /usr/local/lib/python3.6/dist-packages/keras/optimizers.py:793: The name tf.train.Optimizer is deprecated. Please use tf.compat.v1.train.Optimizer instead.\n",
            "\n",
            "WARNING:tensorflow:From /usr/local/lib/python3.6/dist-packages/keras/backend/tensorflow_backend.py:3657: The name tf.log is deprecated. Please use tf.math.log instead.\n",
            "\n",
            "WARNING:tensorflow:From /usr/local/lib/python3.6/dist-packages/tensorflow_core/python/ops/nn_impl.py:183: where (from tensorflow.python.ops.array_ops) is deprecated and will be removed in a future version.\n",
            "Instructions for updating:\n",
            "Use tf.where in 2.0, which has the same broadcast rule as np.where\n",
            "Model: \"sequential_1\"\n",
            "_________________________________________________________________\n",
            "Layer (type)                 Output Shape              Param #   \n",
            "=================================================================\n",
            "dense_1 (Dense)              (None, 2)                 17186     \n",
            "_________________________________________________________________\n",
            "dense_2 (Dense)              (None, 1)                 3         \n",
            "=================================================================\n",
            "Total params: 17,189\n",
            "Trainable params: 17,189\n",
            "Non-trainable params: 0\n",
            "_________________________________________________________________\n",
            "WARNING:tensorflow:From /usr/local/lib/python3.6/dist-packages/keras/backend/tensorflow_backend.py:1033: The name tf.assign_add is deprecated. Please use tf.compat.v1.assign_add instead.\n",
            "\n",
            "WARNING:tensorflow:From /usr/local/lib/python3.6/dist-packages/keras/backend/tensorflow_backend.py:1020: The name tf.assign is deprecated. Please use tf.compat.v1.assign instead.\n",
            "\n",
            "WARNING:tensorflow:From /usr/local/lib/python3.6/dist-packages/keras/backend/tensorflow_backend.py:3005: The name tf.Session is deprecated. Please use tf.compat.v1.Session instead.\n",
            "\n",
            "WARNING:tensorflow:From /usr/local/lib/python3.6/dist-packages/keras/backend/tensorflow_backend.py:190: The name tf.get_default_session is deprecated. Please use tf.compat.v1.get_default_session instead.\n",
            "\n",
            "WARNING:tensorflow:From /usr/local/lib/python3.6/dist-packages/keras/backend/tensorflow_backend.py:197: The name tf.ConfigProto is deprecated. Please use tf.compat.v1.ConfigProto instead.\n",
            "\n",
            "WARNING:tensorflow:From /usr/local/lib/python3.6/dist-packages/keras/backend/tensorflow_backend.py:207: The name tf.global_variables is deprecated. Please use tf.compat.v1.global_variables instead.\n",
            "\n",
            "WARNING:tensorflow:From /usr/local/lib/python3.6/dist-packages/keras/backend/tensorflow_backend.py:216: The name tf.is_variable_initialized is deprecated. Please use tf.compat.v1.is_variable_initialized instead.\n",
            "\n",
            "WARNING:tensorflow:From /usr/local/lib/python3.6/dist-packages/keras/backend/tensorflow_backend.py:223: The name tf.variables_initializer is deprecated. Please use tf.compat.v1.variables_initializer instead.\n",
            "\n",
            "Neuron hidden =  4\n",
            "Model: \"sequential_2\"\n",
            "_________________________________________________________________\n",
            "Layer (type)                 Output Shape              Param #   \n",
            "=================================================================\n",
            "dense_3 (Dense)              (None, 4)                 34372     \n",
            "_________________________________________________________________\n",
            "dense_4 (Dense)              (None, 1)                 5         \n",
            "=================================================================\n",
            "Total params: 34,377\n",
            "Trainable params: 34,377\n",
            "Non-trainable params: 0\n",
            "_________________________________________________________________\n",
            "Neuron hidden =  8\n",
            "Model: \"sequential_3\"\n",
            "_________________________________________________________________\n",
            "Layer (type)                 Output Shape              Param #   \n",
            "=================================================================\n",
            "dense_5 (Dense)              (None, 8)                 68744     \n",
            "_________________________________________________________________\n",
            "dense_6 (Dense)              (None, 1)                 9         \n",
            "=================================================================\n",
            "Total params: 68,753\n",
            "Trainable params: 68,753\n",
            "Non-trainable params: 0\n",
            "_________________________________________________________________\n",
            "Neuron hidden =  16\n",
            "Model: \"sequential_4\"\n",
            "_________________________________________________________________\n",
            "Layer (type)                 Output Shape              Param #   \n",
            "=================================================================\n",
            "dense_7 (Dense)              (None, 16)                137488    \n",
            "_________________________________________________________________\n",
            "dense_8 (Dense)              (None, 1)                 17        \n",
            "=================================================================\n",
            "Total params: 137,505\n",
            "Trainable params: 137,505\n",
            "Non-trainable params: 0\n",
            "_________________________________________________________________\n",
            "Neuron hidden =  32\n",
            "Model: \"sequential_5\"\n",
            "_________________________________________________________________\n",
            "Layer (type)                 Output Shape              Param #   \n",
            "=================================================================\n",
            "dense_9 (Dense)              (None, 32)                274976    \n",
            "_________________________________________________________________\n",
            "dense_10 (Dense)             (None, 1)                 33        \n",
            "=================================================================\n",
            "Total params: 275,009\n",
            "Trainable params: 275,009\n",
            "Non-trainable params: 0\n",
            "_________________________________________________________________\n",
            "Neuron hidden =  64\n",
            "Model: \"sequential_6\"\n",
            "_________________________________________________________________\n",
            "Layer (type)                 Output Shape              Param #   \n",
            "=================================================================\n",
            "dense_11 (Dense)             (None, 64)                549952    \n",
            "_________________________________________________________________\n",
            "dense_12 (Dense)             (None, 1)                 65        \n",
            "=================================================================\n",
            "Total params: 550,017\n",
            "Trainable params: 550,017\n",
            "Non-trainable params: 0\n",
            "_________________________________________________________________\n",
            "Neuron hidden =  128\n",
            "Model: \"sequential_7\"\n",
            "_________________________________________________________________\n",
            "Layer (type)                 Output Shape              Param #   \n",
            "=================================================================\n",
            "dense_13 (Dense)             (None, 128)               1099904   \n",
            "_________________________________________________________________\n",
            "dense_14 (Dense)             (None, 1)                 129       \n",
            "=================================================================\n",
            "Total params: 1,100,033\n",
            "Trainable params: 1,100,033\n",
            "Non-trainable params: 0\n",
            "_________________________________________________________________\n",
            "Neuron hidden =  256\n",
            "Model: \"sequential_8\"\n",
            "_________________________________________________________________\n",
            "Layer (type)                 Output Shape              Param #   \n",
            "=================================================================\n",
            "dense_15 (Dense)             (None, 256)               2199808   \n",
            "_________________________________________________________________\n",
            "dense_16 (Dense)             (None, 1)                 257       \n",
            "=================================================================\n",
            "Total params: 2,200,065\n",
            "Trainable params: 2,200,065\n",
            "Non-trainable params: 0\n",
            "_________________________________________________________________\n",
            "Neuron hidden =  512\n",
            "Model: \"sequential_9\"\n",
            "_________________________________________________________________\n",
            "Layer (type)                 Output Shape              Param #   \n",
            "=================================================================\n",
            "dense_17 (Dense)             (None, 512)               4399616   \n",
            "_________________________________________________________________\n",
            "dense_18 (Dense)             (None, 1)                 513       \n",
            "=================================================================\n",
            "Total params: 4,400,129\n",
            "Trainable params: 4,400,129\n",
            "Non-trainable params: 0\n",
            "_________________________________________________________________\n"
          ],
          "name": "stdout"
        }
      ]
    },
    {
      "cell_type": "code",
      "metadata": {
        "id": "V6LB1Xrqm9Dk",
        "colab_type": "code",
        "outputId": "c748bd0c-b540-48cb-d17e-ab519d23eba1",
        "colab": {
          "base_uri": "https://localhost:8080/",
          "height": 312
        }
      },
      "source": [
        "#Loss\n",
        "\n",
        "plt.plot(N_h,train_error, '-o', label = 'Train error', markersize = 4)\n",
        "plt.plot(N_h, val_error, '-o', label =' val error'  , markersize = 4)\n",
        "plt.xlabel ('Número de neuronas')\n",
        "plt.ylabel('Error medio')\n",
        "plt.title('Comparación error')\n",
        "plt.legend()\n",
        "\n",
        "print('El menor error es de ', min(val_error), ' y se alcanza con una cantidad de neuronas igual a ',\n",
        "      N_h[np.argwhere(val_error==min(val_error))[0][0]])"
      ],
      "execution_count": 24,
      "outputs": [
        {
          "output_type": "stream",
          "text": [
            "El menor error es de  0.5716498769117643  y se alcanza con una cantidad de neuronas igual a  512\n"
          ],
          "name": "stdout"
        },
        {
          "output_type": "display_data",
          "data": {
            "image/png": "[encoded data removed]",
            "text/plain": [
              "<Figure size 432x288 with 1 Axes>"
            ]
          },
          "metadata": {
            "tags": []
          }
        }
      ]
    },
    {
      "cell_type": "code",
      "metadata": {
        "id": "6v90zdm8okyu",
        "colab_type": "code",
        "outputId": "7b083a68-9c81-45ab-89a5-a598e50ba361",
        "colab": {
          "base_uri": "https://localhost:8080/",
          "height": 312
        }
      },
      "source": [
        "#Accuracy\n",
        "plt.plot(N_h,train_accu, '-o', label = 'Train accu', markersize = 4)\n",
        "plt.plot(N_h, val_accu, '-o', label =' val accu' , markersize = 4 )\n",
        "plt.xlabel ('Número de neuronas')\n",
        "plt.ylabel('accu medio')\n",
        "plt.title('Comparación accuracy')\n",
        "plt.legend()\n",
        "\n",
        "print('El mayor accuracy es de ', max(val_accu), ' y se alcanza con una cantidad de neurones igual a ',\n",
        "      N_h[np.argwhere(val_accu == max(val_accu))[0][0]])\n",
        "opt_neur = N_h[np.argwhere(val_accu == max(val_accu))[0][0]]"
      ],
      "execution_count": 25,
      "outputs": [
        {
          "output_type": "stream",
          "text": [
            "El mayor accuracy es de  0.7116736992669676  y se alcanza con una cantidad de neurones igual a  8\n"
          ],
          "name": "stdout"
        },
        {
          "output_type": "display_data",
          "data": {
            "image/png": "[encoded data removed]",
            "text/plain": [
              "<Figure size 432x288 with 1 Axes>"
            ]
          },
          "metadata": {
            "tags": []
          }
        }
      ]
    },
    {
      "cell_type": "code",
      "metadata": {
        "id": "1dfFQuDXRnUD",
        "colab_type": "code",
        "outputId": "54c7c89e-70f3-44be-feb9-a82aa9e60aa8",
        "colab": {
          "base_uri": "https://localhost:8080/",
          "height": 1000
        }
      },
      "source": [
        "train_error1 = []\n",
        "val_error1 = []\n",
        "train_accu1=[]\n",
        "val_accu1 = []\n",
        "for k in N_h:\n",
        "  model, train_acc1, val_acc1 = do_ANN(features_train, labels_train, features_val, labels_val,k, 'sigmoid')\n",
        "  train_error1 = train_error1 + [train_acc1[0]]\n",
        "  val_error1 = val_error1 + [val_acc1[0]] \n",
        "  train_accu1 = train_accu1 + [train_acc1[1]]\n",
        "  val_accu1 = val_accu1 + [val_acc1[1]]"
      ],
      "execution_count": 26,
      "outputs": [
        {
          "output_type": "stream",
          "text": [
            "Neuron hidden =  2\n",
            "Model: \"sequential_10\"\n",
            "_________________________________________________________________\n",
            "Layer (type)                 Output Shape              Param #   \n",
            "=================================================================\n",
            "dense_19 (Dense)             (None, 2)                 17186     \n",
            "_________________________________________________________________\n",
            "dense_20 (Dense)             (None, 1)                 3         \n",
            "=================================================================\n",
            "Total params: 17,189\n",
            "Trainable params: 17,189\n",
            "Non-trainable params: 0\n",
            "_________________________________________________________________\n",
            "Neuron hidden =  4\n",
            "Model: \"sequential_11\"\n",
            "_________________________________________________________________\n",
            "Layer (type)                 Output Shape              Param #   \n",
            "=================================================================\n",
            "dense_21 (Dense)             (None, 4)                 34372     \n",
            "_________________________________________________________________\n",
            "dense_22 (Dense)             (None, 1)                 5         \n",
            "=================================================================\n",
            "Total params: 34,377\n",
            "Trainable params: 34,377\n",
            "Non-trainable params: 0\n",
            "_________________________________________________________________\n",
            "Neuron hidden =  8\n",
            "Model: \"sequential_12\"\n",
            "_________________________________________________________________\n",
            "Layer (type)                 Output Shape              Param #   \n",
            "=================================================================\n",
            "dense_23 (Dense)             (None, 8)                 68744     \n",
            "_________________________________________________________________\n",
            "dense_24 (Dense)             (None, 1)                 9         \n",
            "=================================================================\n",
            "Total params: 68,753\n",
            "Trainable params: 68,753\n",
            "Non-trainable params: 0\n",
            "_________________________________________________________________\n",
            "Neuron hidden =  16\n",
            "Model: \"sequential_13\"\n",
            "_________________________________________________________________\n",
            "Layer (type)                 Output Shape              Param #   \n",
            "=================================================================\n",
            "dense_25 (Dense)             (None, 16)                137488    \n",
            "_________________________________________________________________\n",
            "dense_26 (Dense)             (None, 1)                 17        \n",
            "=================================================================\n",
            "Total params: 137,505\n",
            "Trainable params: 137,505\n",
            "Non-trainable params: 0\n",
            "_________________________________________________________________\n",
            "Neuron hidden =  32\n",
            "Model: \"sequential_14\"\n",
            "_________________________________________________________________\n",
            "Layer (type)                 Output Shape              Param #   \n",
            "=================================================================\n",
            "dense_27 (Dense)             (None, 32)                274976    \n",
            "_________________________________________________________________\n",
            "dense_28 (Dense)             (None, 1)                 33        \n",
            "=================================================================\n",
            "Total params: 275,009\n",
            "Trainable params: 275,009\n",
            "Non-trainable params: 0\n",
            "_________________________________________________________________\n",
            "Neuron hidden =  64\n",
            "Model: \"sequential_15\"\n",
            "_________________________________________________________________\n",
            "Layer (type)                 Output Shape              Param #   \n",
            "=================================================================\n",
            "dense_29 (Dense)             (None, 64)                549952    \n",
            "_________________________________________________________________\n",
            "dense_30 (Dense)             (None, 1)                 65        \n",
            "=================================================================\n",
            "Total params: 550,017\n",
            "Trainable params: 550,017\n",
            "Non-trainable params: 0\n",
            "_________________________________________________________________\n",
            "Neuron hidden =  128\n",
            "Model: \"sequential_16\"\n",
            "_________________________________________________________________\n",
            "Layer (type)                 Output Shape              Param #   \n",
            "=================================================================\n",
            "dense_31 (Dense)             (None, 128)               1099904   \n",
            "_________________________________________________________________\n",
            "dense_32 (Dense)             (None, 1)                 129       \n",
            "=================================================================\n",
            "Total params: 1,100,033\n",
            "Trainable params: 1,100,033\n",
            "Non-trainable params: 0\n",
            "_________________________________________________________________\n",
            "Neuron hidden =  256\n",
            "Model: \"sequential_17\"\n",
            "_________________________________________________________________\n",
            "Layer (type)                 Output Shape              Param #   \n",
            "=================================================================\n",
            "dense_33 (Dense)             (None, 256)               2199808   \n",
            "_________________________________________________________________\n",
            "dense_34 (Dense)             (None, 1)                 257       \n",
            "=================================================================\n",
            "Total params: 2,200,065\n",
            "Trainable params: 2,200,065\n",
            "Non-trainable params: 0\n",
            "_________________________________________________________________\n",
            "Neuron hidden =  512\n",
            "Model: \"sequential_18\"\n",
            "_________________________________________________________________\n",
            "Layer (type)                 Output Shape              Param #   \n",
            "=================================================================\n",
            "dense_35 (Dense)             (None, 512)               4399616   \n",
            "_________________________________________________________________\n",
            "dense_36 (Dense)             (None, 1)                 513       \n",
            "=================================================================\n",
            "Total params: 4,400,129\n",
            "Trainable params: 4,400,129\n",
            "Non-trainable params: 0\n",
            "_________________________________________________________________\n"
          ],
          "name": "stdout"
        }
      ]
    },
    {
      "cell_type": "code",
      "metadata": {
        "id": "Kq0T3oLeR97-",
        "colab_type": "code",
        "outputId": "22916b2e-fea7-47fa-960e-45ec02aab7db",
        "colab": {
          "base_uri": "https://localhost:8080/",
          "height": 312
        }
      },
      "source": [
        "#Accuracy caso sigmoid\n",
        "\n",
        "plt.plot(N_h,train_accu1, '-o', label = 'Train accu', markersize = 4)\n",
        "plt.plot(N_h, val_accu1, '-o', label =' val accu', markersize = 4  )\n",
        "plt.xlabel ('Número de neuronas')\n",
        "plt.ylabel('accu medio')\n",
        "plt.title('Comparación accuracy caso sigmoid')\n",
        "plt.legend()\n",
        "\n",
        "print('El mayor accuracy es de ', max(val_accu1), ' y se alcanza con una cantidad de neurones igual a ',\n",
        "      N_h[np.argwhere(val_accu1 == max(val_accu1))[0][0]])"
      ],
      "execution_count": 27,
      "outputs": [
        {
          "output_type": "stream",
          "text": [
            "El mayor accuracy es de  0.6554149086213816  y se alcanza con una cantidad de neurones igual a  32\n"
          ],
          "name": "stdout"
        },
        {
          "output_type": "display_data",
          "data": {
            "image/png": "[encoded data removed]",
            "text/plain": [
              "<Figure size 432x288 with 1 Axes>"
            ]
          },
          "metadata": {
            "tags": []
          }
        }
      ]
    },
    {
      "cell_type": "markdown",
      "metadata": {
        "id": "Rh_3MMNXM2i_",
        "colab_type": "text"
      },
      "source": [
        "Debido a los resultados alcanzado en los problemas anteriores, decidimos utilizar la función de activación lineal ya que vimos que el problema se adaptaba de mejor manera a estos casos. Y no fue la excepción. Con acc de 0.72 para una cantidad de 256 neuornas, se consiguió igual el mismo resultados dado por el problema de regresión lineal. En cambio para el caso en que la función de activación fue la función sigmoidal vemos que el mayor accuracy es de 0.66 con una cantidad de 16 neuronas.\n",
        "\n",
        "Esto confirma lo linealmente adaptable que es nuestro problema, teniendo en cuenta los modelos anteriores."
      ]
    },
    {
      "cell_type": "code",
      "metadata": {
        "id": "V-U-JiiMFF1Q",
        "colab_type": "code",
        "colab": {}
      },
      "source": [
        "#K-NN\n",
        "\n",
        "from sklearn.neighbors import KNeighborsClassifier\n",
        "def do_KNN(x,y,xv,yv, param):\n",
        "    model = KNeighborsClassifier()\n",
        "    print(\"Param K= \",param)\n",
        "    model.set_params(n_neighbors=param)\n",
        "    model.fit(x,y)\n",
        "    train_acc = model.score(x,y)\n",
        "    test_acc = model.score(xv,yv)\n",
        "    return model, train_acc, test_acc\n",
        "steps = 25\n",
        "Ks = np.arange(1, features_train.shape[0], steps)\n",
        "\n"
      ],
      "execution_count": 0,
      "outputs": []
    },
    {
      "cell_type": "code",
      "metadata": {
        "id": "YrQUYKInu5yF",
        "colab_type": "code",
        "outputId": "d451a3b5-b121-49d6-fc19-e1e0efe1fee0",
        "colab": {
          "base_uri": "https://localhost:8080/",
          "height": 1000
        }
      },
      "source": [
        "nn_train_acc = []\n",
        "nn_val_acc = []\n",
        "\n",
        "for k in Ks:\n",
        "  a,b,c = do_KNN(features_train, labels_train, features_val, labels_val, k)\n",
        "  nn_train_acc = nn_train_acc + [b]\n",
        "  nn_val_acc = nn_val_acc + [c]\n",
        "  "
      ],
      "execution_count": 29,
      "outputs": [
        {
          "output_type": "stream",
          "text": [
            "Param K=  1\n",
            "Param K=  26\n",
            "Param K=  51\n",
            "Param K=  76\n",
            "Param K=  101\n",
            "Param K=  126\n",
            "Param K=  151\n",
            "Param K=  176\n",
            "Param K=  201\n",
            "Param K=  226\n",
            "Param K=  251\n",
            "Param K=  276\n",
            "Param K=  301\n",
            "Param K=  326\n",
            "Param K=  351\n",
            "Param K=  376\n",
            "Param K=  401\n",
            "Param K=  426\n",
            "Param K=  451\n",
            "Param K=  476\n",
            "Param K=  501\n",
            "Param K=  526\n",
            "Param K=  551\n",
            "Param K=  576\n",
            "Param K=  601\n",
            "Param K=  626\n",
            "Param K=  651\n",
            "Param K=  676\n",
            "Param K=  701\n",
            "Param K=  726\n",
            "Param K=  751\n",
            "Param K=  776\n",
            "Param K=  801\n",
            "Param K=  826\n",
            "Param K=  851\n",
            "Param K=  876\n",
            "Param K=  901\n",
            "Param K=  926\n",
            "Param K=  951\n",
            "Param K=  976\n",
            "Param K=  1001\n",
            "Param K=  1026\n",
            "Param K=  1051\n",
            "Param K=  1076\n",
            "Param K=  1101\n",
            "Param K=  1126\n",
            "Param K=  1151\n",
            "Param K=  1176\n",
            "Param K=  1201\n",
            "Param K=  1226\n",
            "Param K=  1251\n",
            "Param K=  1276\n",
            "Param K=  1301\n",
            "Param K=  1326\n",
            "Param K=  1351\n",
            "Param K=  1376\n",
            "Param K=  1401\n",
            "Param K=  1426\n",
            "Param K=  1451\n",
            "Param K=  1476\n",
            "Param K=  1501\n",
            "Param K=  1526\n",
            "Param K=  1551\n",
            "Param K=  1576\n",
            "Param K=  1601\n",
            "Param K=  1626\n",
            "Param K=  1651\n",
            "Param K=  1676\n",
            "Param K=  1701\n",
            "Param K=  1726\n",
            "Param K=  1751\n",
            "Param K=  1776\n",
            "Param K=  1801\n",
            "Param K=  1826\n",
            "Param K=  1851\n",
            "Param K=  1876\n",
            "Param K=  1901\n",
            "Param K=  1926\n",
            "Param K=  1951\n",
            "Param K=  1976\n",
            "Param K=  2001\n",
            "Param K=  2026\n",
            "Param K=  2051\n",
            "Param K=  2076\n",
            "Param K=  2101\n",
            "Param K=  2126\n",
            "Param K=  2151\n",
            "Param K=  2176\n",
            "Param K=  2201\n",
            "Param K=  2226\n",
            "Param K=  2251\n",
            "Param K=  2276\n",
            "Param K=  2301\n",
            "Param K=  2326\n",
            "Param K=  2351\n",
            "Param K=  2376\n",
            "Param K=  2401\n",
            "Param K=  2426\n",
            "Param K=  2451\n",
            "Param K=  2476\n",
            "Param K=  2501\n",
            "Param K=  2526\n",
            "Param K=  2551\n",
            "Param K=  2576\n",
            "Param K=  2601\n",
            "Param K=  2626\n",
            "Param K=  2651\n",
            "Param K=  2676\n",
            "Param K=  2701\n",
            "Param K=  2726\n",
            "Param K=  2751\n",
            "Param K=  2776\n",
            "Param K=  2801\n",
            "Param K=  2826\n"
          ],
          "name": "stdout"
        }
      ]
    },
    {
      "cell_type": "code",
      "metadata": {
        "id": "YdMSiBLywEZ7",
        "colab_type": "code",
        "outputId": "1dc777e4-6bb7-4393-bd30-179f2f483c19",
        "colab": {
          "base_uri": "https://localhost:8080/",
          "height": 313
        }
      },
      "source": [
        "plt.plot(np.arange(1,2843, steps), nn_train_acc, '--', label = 'Train acc')\n",
        "plt.plot(np.arange(1,2843, steps), nn_val_acc, '--', label = 'Val acc')\n",
        "plt.xlabel('Parámetro')\n",
        "plt.ylabel('Accuracy')\n",
        "plt.legend()\n",
        "\n",
        "print('El accuracy mayor de entrenamiento es : ', max(nn_train_acc), ' en el parámetro K= ', Ks[np.argwhere(nn_train_acc == max(nn_train_acc))[0][0]])\n",
        "\n",
        "print('El accuracy mayor de validación es : ', max(nn_val_acc), ' en el parámetro K = ', Ks[np.argwhere(nn_val_acc == max(nn_val_acc))[0][0]])"
      ],
      "execution_count": 30,
      "outputs": [
        {
          "output_type": "stream",
          "text": [
            "El accuracy mayor de entrenamiento es :  1.0  en el parámetro K=  1\n",
            "El accuracy mayor de validación es :  0.6118143459915611  en el parámetro K =  426\n"
          ],
          "name": "stdout"
        },
        {
          "output_type": "display_data",
          "data": {
            "image/png": "[encoded data removed]",
            "text/plain": [
              "<Figure size 432x288 with 1 Axes>"
            ]
          },
          "metadata": {
            "tags": []
          }
        }
      ]
    },
    {
      "cell_type": "markdown",
      "metadata": {
        "id": "2b9CtWGxUlUC",
        "colab_type": "text"
      },
      "source": [
        "No es coinciendia que el parámetro K=426 sea similar a la frecuencia de la palabra que más veces aparece en el dataset de entrenamiento ('film'). Ello nos muestra que justamente se aproxima mejor esta cantidad de vecinos a cada uno de los vectores creados debido hay más probabilidad de que la entrada de la palabra film esté en los vectores."
      ]
    },
    {
      "cell_type": "code",
      "metadata": {
        "id": "347M636aE_cN",
        "colab_type": "code",
        "colab": {}
      },
      "source": [
        "#Árbol de desición\n",
        "\n",
        "from sklearn.tree import DecisionTreeClassifier as Tree\n",
        "def do_Tree(x,y,xv,yv, param_d=None, param_m=2):\n",
        "    model= Tree()\n",
        "    print(\"Param Max-D= \",param_d, 'Min-samples-S= ', param_m)\n",
        "    model.set_params(max_depth=param_d, min_samples_split=param_m) \n",
        "    model.fit(x,y)\n",
        "    train_acc = model.score(x,y)\n",
        "    test_acc = model.score(xv,yv)\n",
        "    return model, train_acc, test_acc\n",
        "steps = 250\n",
        "Depths = np.arange(1, features_train.shape[1], steps ) #choose steps\n",
        "SamplesS = np.arange(2, features_train.shape[0] , steps ) #choose steps"
      ],
      "execution_count": 0,
      "outputs": []
    },
    {
      "cell_type": "code",
      "metadata": {
        "id": "ZiknVy21VDN9",
        "colab_type": "code",
        "outputId": "cb3de158-d1ed-4aa6-9495-9f2f9ee96876",
        "colab": {
          "base_uri": "https://localhost:8080/",
          "height": 1000
        }
      },
      "source": [
        "tree_train_acc = []\n",
        "tree_val_acc = []\n",
        "\n",
        "for k in Depths:\n",
        "  for i in SamplesS:\n",
        "    a,b,c = do_Tree(features_train, labels_train, features_val, labels_val, k,i)\n",
        "    tree_train_acc = tree_train_acc + [b]\n",
        "    tree_val_acc = tree_val_acc + [c]"
      ],
      "execution_count": 32,
      "outputs": [
        {
          "output_type": "stream",
          "text": [
            "Param Max-D=  1 Min-samples-S=  2\n",
            "Param Max-D=  1 Min-samples-S=  252\n",
            "Param Max-D=  1 Min-samples-S=  502\n",
            "Param Max-D=  1 Min-samples-S=  752\n",
            "Param Max-D=  1 Min-samples-S=  1002\n",
            "Param Max-D=  1 Min-samples-S=  1252\n",
            "Param Max-D=  1 Min-samples-S=  1502\n",
            "Param Max-D=  1 Min-samples-S=  1752\n",
            "Param Max-D=  1 Min-samples-S=  2002\n",
            "Param Max-D=  1 Min-samples-S=  2252\n",
            "Param Max-D=  1 Min-samples-S=  2502\n",
            "Param Max-D=  1 Min-samples-S=  2752\n",
            "Param Max-D=  251 Min-samples-S=  2\n",
            "Param Max-D=  251 Min-samples-S=  252\n",
            "Param Max-D=  251 Min-samples-S=  502\n",
            "Param Max-D=  251 Min-samples-S=  752\n",
            "Param Max-D=  251 Min-samples-S=  1002\n",
            "Param Max-D=  251 Min-samples-S=  1252\n",
            "Param Max-D=  251 Min-samples-S=  1502\n",
            "Param Max-D=  251 Min-samples-S=  1752\n",
            "Param Max-D=  251 Min-samples-S=  2002\n",
            "Param Max-D=  251 Min-samples-S=  2252\n",
            "Param Max-D=  251 Min-samples-S=  2502\n",
            "Param Max-D=  251 Min-samples-S=  2752\n",
            "Param Max-D=  501 Min-samples-S=  2\n",
            "Param Max-D=  501 Min-samples-S=  252\n",
            "Param Max-D=  501 Min-samples-S=  502\n",
            "Param Max-D=  501 Min-samples-S=  752\n",
            "Param Max-D=  501 Min-samples-S=  1002\n",
            "Param Max-D=  501 Min-samples-S=  1252\n",
            "Param Max-D=  501 Min-samples-S=  1502\n",
            "Param Max-D=  501 Min-samples-S=  1752\n",
            "Param Max-D=  501 Min-samples-S=  2002\n",
            "Param Max-D=  501 Min-samples-S=  2252\n",
            "Param Max-D=  501 Min-samples-S=  2502\n",
            "Param Max-D=  501 Min-samples-S=  2752\n",
            "Param Max-D=  751 Min-samples-S=  2\n",
            "Param Max-D=  751 Min-samples-S=  252\n",
            "Param Max-D=  751 Min-samples-S=  502\n",
            "Param Max-D=  751 Min-samples-S=  752\n",
            "Param Max-D=  751 Min-samples-S=  1002\n",
            "Param Max-D=  751 Min-samples-S=  1252\n",
            "Param Max-D=  751 Min-samples-S=  1502\n",
            "Param Max-D=  751 Min-samples-S=  1752\n",
            "Param Max-D=  751 Min-samples-S=  2002\n",
            "Param Max-D=  751 Min-samples-S=  2252\n",
            "Param Max-D=  751 Min-samples-S=  2502\n",
            "Param Max-D=  751 Min-samples-S=  2752\n",
            "Param Max-D=  1001 Min-samples-S=  2\n",
            "Param Max-D=  1001 Min-samples-S=  252\n",
            "Param Max-D=  1001 Min-samples-S=  502\n",
            "Param Max-D=  1001 Min-samples-S=  752\n",
            "Param Max-D=  1001 Min-samples-S=  1002\n",
            "Param Max-D=  1001 Min-samples-S=  1252\n",
            "Param Max-D=  1001 Min-samples-S=  1502\n",
            "Param Max-D=  1001 Min-samples-S=  1752\n",
            "Param Max-D=  1001 Min-samples-S=  2002\n",
            "Param Max-D=  1001 Min-samples-S=  2252\n",
            "Param Max-D=  1001 Min-samples-S=  2502\n",
            "Param Max-D=  1001 Min-samples-S=  2752\n",
            "Param Max-D=  1251 Min-samples-S=  2\n",
            "Param Max-D=  1251 Min-samples-S=  252\n",
            "Param Max-D=  1251 Min-samples-S=  502\n",
            "Param Max-D=  1251 Min-samples-S=  752\n",
            "Param Max-D=  1251 Min-samples-S=  1002\n",
            "Param Max-D=  1251 Min-samples-S=  1252\n",
            "Param Max-D=  1251 Min-samples-S=  1502\n",
            "Param Max-D=  1251 Min-samples-S=  1752\n",
            "Param Max-D=  1251 Min-samples-S=  2002\n",
            "Param Max-D=  1251 Min-samples-S=  2252\n",
            "Param Max-D=  1251 Min-samples-S=  2502\n",
            "Param Max-D=  1251 Min-samples-S=  2752\n",
            "Param Max-D=  1501 Min-samples-S=  2\n",
            "Param Max-D=  1501 Min-samples-S=  252\n",
            "Param Max-D=  1501 Min-samples-S=  502\n",
            "Param Max-D=  1501 Min-samples-S=  752\n",
            "Param Max-D=  1501 Min-samples-S=  1002\n",
            "Param Max-D=  1501 Min-samples-S=  1252\n",
            "Param Max-D=  1501 Min-samples-S=  1502\n",
            "Param Max-D=  1501 Min-samples-S=  1752\n",
            "Param Max-D=  1501 Min-samples-S=  2002\n",
            "Param Max-D=  1501 Min-samples-S=  2252\n",
            "Param Max-D=  1501 Min-samples-S=  2502\n",
            "Param Max-D=  1501 Min-samples-S=  2752\n",
            "Param Max-D=  1751 Min-samples-S=  2\n",
            "Param Max-D=  1751 Min-samples-S=  252\n",
            "Param Max-D=  1751 Min-samples-S=  502\n",
            "Param Max-D=  1751 Min-samples-S=  752\n",
            "Param Max-D=  1751 Min-samples-S=  1002\n",
            "Param Max-D=  1751 Min-samples-S=  1252\n",
            "Param Max-D=  1751 Min-samples-S=  1502\n",
            "Param Max-D=  1751 Min-samples-S=  1752\n",
            "Param Max-D=  1751 Min-samples-S=  2002\n",
            "Param Max-D=  1751 Min-samples-S=  2252\n",
            "Param Max-D=  1751 Min-samples-S=  2502\n",
            "Param Max-D=  1751 Min-samples-S=  2752\n",
            "Param Max-D=  2001 Min-samples-S=  2\n",
            "Param Max-D=  2001 Min-samples-S=  252\n",
            "Param Max-D=  2001 Min-samples-S=  502\n",
            "Param Max-D=  2001 Min-samples-S=  752\n",
            "Param Max-D=  2001 Min-samples-S=  1002\n",
            "Param Max-D=  2001 Min-samples-S=  1252\n",
            "Param Max-D=  2001 Min-samples-S=  1502\n",
            "Param Max-D=  2001 Min-samples-S=  1752\n",
            "Param Max-D=  2001 Min-samples-S=  2002\n",
            "Param Max-D=  2001 Min-samples-S=  2252\n",
            "Param Max-D=  2001 Min-samples-S=  2502\n",
            "Param Max-D=  2001 Min-samples-S=  2752\n",
            "Param Max-D=  2251 Min-samples-S=  2\n",
            "Param Max-D=  2251 Min-samples-S=  252\n",
            "Param Max-D=  2251 Min-samples-S=  502\n",
            "Param Max-D=  2251 Min-samples-S=  752\n",
            "Param Max-D=  2251 Min-samples-S=  1002\n",
            "Param Max-D=  2251 Min-samples-S=  1252\n",
            "Param Max-D=  2251 Min-samples-S=  1502\n",
            "Param Max-D=  2251 Min-samples-S=  1752\n",
            "Param Max-D=  2251 Min-samples-S=  2002\n",
            "Param Max-D=  2251 Min-samples-S=  2252\n",
            "Param Max-D=  2251 Min-samples-S=  2502\n",
            "Param Max-D=  2251 Min-samples-S=  2752\n",
            "Param Max-D=  2501 Min-samples-S=  2\n",
            "Param Max-D=  2501 Min-samples-S=  252\n",
            "Param Max-D=  2501 Min-samples-S=  502\n",
            "Param Max-D=  2501 Min-samples-S=  752\n",
            "Param Max-D=  2501 Min-samples-S=  1002\n",
            "Param Max-D=  2501 Min-samples-S=  1252\n",
            "Param Max-D=  2501 Min-samples-S=  1502\n",
            "Param Max-D=  2501 Min-samples-S=  1752\n",
            "Param Max-D=  2501 Min-samples-S=  2002\n",
            "Param Max-D=  2501 Min-samples-S=  2252\n",
            "Param Max-D=  2501 Min-samples-S=  2502\n",
            "Param Max-D=  2501 Min-samples-S=  2752\n",
            "Param Max-D=  2751 Min-samples-S=  2\n",
            "Param Max-D=  2751 Min-samples-S=  252\n",
            "Param Max-D=  2751 Min-samples-S=  502\n",
            "Param Max-D=  2751 Min-samples-S=  752\n",
            "Param Max-D=  2751 Min-samples-S=  1002\n",
            "Param Max-D=  2751 Min-samples-S=  1252\n",
            "Param Max-D=  2751 Min-samples-S=  1502\n",
            "Param Max-D=  2751 Min-samples-S=  1752\n",
            "Param Max-D=  2751 Min-samples-S=  2002\n",
            "Param Max-D=  2751 Min-samples-S=  2252\n",
            "Param Max-D=  2751 Min-samples-S=  2502\n",
            "Param Max-D=  2751 Min-samples-S=  2752\n",
            "Param Max-D=  3001 Min-samples-S=  2\n",
            "Param Max-D=  3001 Min-samples-S=  252\n",
            "Param Max-D=  3001 Min-samples-S=  502\n",
            "Param Max-D=  3001 Min-samples-S=  752\n",
            "Param Max-D=  3001 Min-samples-S=  1002\n",
            "Param Max-D=  3001 Min-samples-S=  1252\n",
            "Param Max-D=  3001 Min-samples-S=  1502\n",
            "Param Max-D=  3001 Min-samples-S=  1752\n",
            "Param Max-D=  3001 Min-samples-S=  2002\n",
            "Param Max-D=  3001 Min-samples-S=  2252\n",
            "Param Max-D=  3001 Min-samples-S=  2502\n",
            "Param Max-D=  3001 Min-samples-S=  2752\n",
            "Param Max-D=  3251 Min-samples-S=  2\n",
            "Param Max-D=  3251 Min-samples-S=  252\n",
            "Param Max-D=  3251 Min-samples-S=  502\n",
            "Param Max-D=  3251 Min-samples-S=  752\n",
            "Param Max-D=  3251 Min-samples-S=  1002\n",
            "Param Max-D=  3251 Min-samples-S=  1252\n",
            "Param Max-D=  3251 Min-samples-S=  1502\n",
            "Param Max-D=  3251 Min-samples-S=  1752\n",
            "Param Max-D=  3251 Min-samples-S=  2002\n",
            "Param Max-D=  3251 Min-samples-S=  2252\n",
            "Param Max-D=  3251 Min-samples-S=  2502\n",
            "Param Max-D=  3251 Min-samples-S=  2752\n",
            "Param Max-D=  3501 Min-samples-S=  2\n",
            "Param Max-D=  3501 Min-samples-S=  252\n",
            "Param Max-D=  3501 Min-samples-S=  502\n",
            "Param Max-D=  3501 Min-samples-S=  752\n",
            "Param Max-D=  3501 Min-samples-S=  1002\n",
            "Param Max-D=  3501 Min-samples-S=  1252\n",
            "Param Max-D=  3501 Min-samples-S=  1502\n",
            "Param Max-D=  3501 Min-samples-S=  1752\n",
            "Param Max-D=  3501 Min-samples-S=  2002\n",
            "Param Max-D=  3501 Min-samples-S=  2252\n",
            "Param Max-D=  3501 Min-samples-S=  2502\n",
            "Param Max-D=  3501 Min-samples-S=  2752\n",
            "Param Max-D=  3751 Min-samples-S=  2\n",
            "Param Max-D=  3751 Min-samples-S=  252\n",
            "Param Max-D=  3751 Min-samples-S=  502\n",
            "Param Max-D=  3751 Min-samples-S=  752\n",
            "Param Max-D=  3751 Min-samples-S=  1002\n",
            "Param Max-D=  3751 Min-samples-S=  1252\n",
            "Param Max-D=  3751 Min-samples-S=  1502\n",
            "Param Max-D=  3751 Min-samples-S=  1752\n",
            "Param Max-D=  3751 Min-samples-S=  2002\n",
            "Param Max-D=  3751 Min-samples-S=  2252\n",
            "Param Max-D=  3751 Min-samples-S=  2502\n",
            "Param Max-D=  3751 Min-samples-S=  2752\n",
            "Param Max-D=  4001 Min-samples-S=  2\n",
            "Param Max-D=  4001 Min-samples-S=  252\n",
            "Param Max-D=  4001 Min-samples-S=  502\n",
            "Param Max-D=  4001 Min-samples-S=  752\n",
            "Param Max-D=  4001 Min-samples-S=  1002\n",
            "Param Max-D=  4001 Min-samples-S=  1252\n",
            "Param Max-D=  4001 Min-samples-S=  1502\n",
            "Param Max-D=  4001 Min-samples-S=  1752\n",
            "Param Max-D=  4001 Min-samples-S=  2002\n",
            "Param Max-D=  4001 Min-samples-S=  2252\n",
            "Param Max-D=  4001 Min-samples-S=  2502\n",
            "Param Max-D=  4001 Min-samples-S=  2752\n",
            "Param Max-D=  4251 Min-samples-S=  2\n",
            "Param Max-D=  4251 Min-samples-S=  252\n",
            "Param Max-D=  4251 Min-samples-S=  502\n",
            "Param Max-D=  4251 Min-samples-S=  752\n",
            "Param Max-D=  4251 Min-samples-S=  1002\n",
            "Param Max-D=  4251 Min-samples-S=  1252\n",
            "Param Max-D=  4251 Min-samples-S=  1502\n",
            "Param Max-D=  4251 Min-samples-S=  1752\n",
            "Param Max-D=  4251 Min-samples-S=  2002\n",
            "Param Max-D=  4251 Min-samples-S=  2252\n",
            "Param Max-D=  4251 Min-samples-S=  2502\n",
            "Param Max-D=  4251 Min-samples-S=  2752\n",
            "Param Max-D=  4501 Min-samples-S=  2\n",
            "Param Max-D=  4501 Min-samples-S=  252\n",
            "Param Max-D=  4501 Min-samples-S=  502\n",
            "Param Max-D=  4501 Min-samples-S=  752\n",
            "Param Max-D=  4501 Min-samples-S=  1002\n",
            "Param Max-D=  4501 Min-samples-S=  1252\n",
            "Param Max-D=  4501 Min-samples-S=  1502\n",
            "Param Max-D=  4501 Min-samples-S=  1752\n",
            "Param Max-D=  4501 Min-samples-S=  2002\n",
            "Param Max-D=  4501 Min-samples-S=  2252\n",
            "Param Max-D=  4501 Min-samples-S=  2502\n",
            "Param Max-D=  4501 Min-samples-S=  2752\n",
            "Param Max-D=  4751 Min-samples-S=  2\n",
            "Param Max-D=  4751 Min-samples-S=  252\n",
            "Param Max-D=  4751 Min-samples-S=  502\n",
            "Param Max-D=  4751 Min-samples-S=  752\n",
            "Param Max-D=  4751 Min-samples-S=  1002\n",
            "Param Max-D=  4751 Min-samples-S=  1252\n",
            "Param Max-D=  4751 Min-samples-S=  1502\n",
            "Param Max-D=  4751 Min-samples-S=  1752\n",
            "Param Max-D=  4751 Min-samples-S=  2002\n",
            "Param Max-D=  4751 Min-samples-S=  2252\n",
            "Param Max-D=  4751 Min-samples-S=  2502\n",
            "Param Max-D=  4751 Min-samples-S=  2752\n",
            "Param Max-D=  5001 Min-samples-S=  2\n",
            "Param Max-D=  5001 Min-samples-S=  252\n",
            "Param Max-D=  5001 Min-samples-S=  502\n",
            "Param Max-D=  5001 Min-samples-S=  752\n",
            "Param Max-D=  5001 Min-samples-S=  1002\n",
            "Param Max-D=  5001 Min-samples-S=  1252\n",
            "Param Max-D=  5001 Min-samples-S=  1502\n",
            "Param Max-D=  5001 Min-samples-S=  1752\n",
            "Param Max-D=  5001 Min-samples-S=  2002\n",
            "Param Max-D=  5001 Min-samples-S=  2252\n",
            "Param Max-D=  5001 Min-samples-S=  2502\n",
            "Param Max-D=  5001 Min-samples-S=  2752\n",
            "Param Max-D=  5251 Min-samples-S=  2\n",
            "Param Max-D=  5251 Min-samples-S=  252\n",
            "Param Max-D=  5251 Min-samples-S=  502\n",
            "Param Max-D=  5251 Min-samples-S=  752\n",
            "Param Max-D=  5251 Min-samples-S=  1002\n",
            "Param Max-D=  5251 Min-samples-S=  1252\n",
            "Param Max-D=  5251 Min-samples-S=  1502\n",
            "Param Max-D=  5251 Min-samples-S=  1752\n",
            "Param Max-D=  5251 Min-samples-S=  2002\n",
            "Param Max-D=  5251 Min-samples-S=  2252\n",
            "Param Max-D=  5251 Min-samples-S=  2502\n",
            "Param Max-D=  5251 Min-samples-S=  2752\n",
            "Param Max-D=  5501 Min-samples-S=  2\n",
            "Param Max-D=  5501 Min-samples-S=  252\n",
            "Param Max-D=  5501 Min-samples-S=  502\n",
            "Param Max-D=  5501 Min-samples-S=  752\n",
            "Param Max-D=  5501 Min-samples-S=  1002\n",
            "Param Max-D=  5501 Min-samples-S=  1252\n",
            "Param Max-D=  5501 Min-samples-S=  1502\n",
            "Param Max-D=  5501 Min-samples-S=  1752\n",
            "Param Max-D=  5501 Min-samples-S=  2002\n",
            "Param Max-D=  5501 Min-samples-S=  2252\n",
            "Param Max-D=  5501 Min-samples-S=  2502\n",
            "Param Max-D=  5501 Min-samples-S=  2752\n",
            "Param Max-D=  5751 Min-samples-S=  2\n",
            "Param Max-D=  5751 Min-samples-S=  252\n",
            "Param Max-D=  5751 Min-samples-S=  502\n",
            "Param Max-D=  5751 Min-samples-S=  752\n",
            "Param Max-D=  5751 Min-samples-S=  1002\n",
            "Param Max-D=  5751 Min-samples-S=  1252\n",
            "Param Max-D=  5751 Min-samples-S=  1502\n",
            "Param Max-D=  5751 Min-samples-S=  1752\n",
            "Param Max-D=  5751 Min-samples-S=  2002\n",
            "Param Max-D=  5751 Min-samples-S=  2252\n",
            "Param Max-D=  5751 Min-samples-S=  2502\n",
            "Param Max-D=  5751 Min-samples-S=  2752\n",
            "Param Max-D=  6001 Min-samples-S=  2\n",
            "Param Max-D=  6001 Min-samples-S=  252\n",
            "Param Max-D=  6001 Min-samples-S=  502\n",
            "Param Max-D=  6001 Min-samples-S=  752\n",
            "Param Max-D=  6001 Min-samples-S=  1002\n",
            "Param Max-D=  6001 Min-samples-S=  1252\n",
            "Param Max-D=  6001 Min-samples-S=  1502\n",
            "Param Max-D=  6001 Min-samples-S=  1752\n",
            "Param Max-D=  6001 Min-samples-S=  2002\n",
            "Param Max-D=  6001 Min-samples-S=  2252\n",
            "Param Max-D=  6001 Min-samples-S=  2502\n",
            "Param Max-D=  6001 Min-samples-S=  2752\n",
            "Param Max-D=  6251 Min-samples-S=  2\n",
            "Param Max-D=  6251 Min-samples-S=  252\n",
            "Param Max-D=  6251 Min-samples-S=  502\n",
            "Param Max-D=  6251 Min-samples-S=  752\n",
            "Param Max-D=  6251 Min-samples-S=  1002\n",
            "Param Max-D=  6251 Min-samples-S=  1252\n",
            "Param Max-D=  6251 Min-samples-S=  1502\n",
            "Param Max-D=  6251 Min-samples-S=  1752\n",
            "Param Max-D=  6251 Min-samples-S=  2002\n",
            "Param Max-D=  6251 Min-samples-S=  2252\n",
            "Param Max-D=  6251 Min-samples-S=  2502\n",
            "Param Max-D=  6251 Min-samples-S=  2752\n",
            "Param Max-D=  6501 Min-samples-S=  2\n",
            "Param Max-D=  6501 Min-samples-S=  252\n",
            "Param Max-D=  6501 Min-samples-S=  502\n",
            "Param Max-D=  6501 Min-samples-S=  752\n",
            "Param Max-D=  6501 Min-samples-S=  1002\n",
            "Param Max-D=  6501 Min-samples-S=  1252\n",
            "Param Max-D=  6501 Min-samples-S=  1502\n",
            "Param Max-D=  6501 Min-samples-S=  1752\n",
            "Param Max-D=  6501 Min-samples-S=  2002\n",
            "Param Max-D=  6501 Min-samples-S=  2252\n",
            "Param Max-D=  6501 Min-samples-S=  2502\n",
            "Param Max-D=  6501 Min-samples-S=  2752\n",
            "Param Max-D=  6751 Min-samples-S=  2\n",
            "Param Max-D=  6751 Min-samples-S=  252\n",
            "Param Max-D=  6751 Min-samples-S=  502\n",
            "Param Max-D=  6751 Min-samples-S=  752\n",
            "Param Max-D=  6751 Min-samples-S=  1002\n",
            "Param Max-D=  6751 Min-samples-S=  1252\n",
            "Param Max-D=  6751 Min-samples-S=  1502\n",
            "Param Max-D=  6751 Min-samples-S=  1752\n",
            "Param Max-D=  6751 Min-samples-S=  2002\n",
            "Param Max-D=  6751 Min-samples-S=  2252\n",
            "Param Max-D=  6751 Min-samples-S=  2502\n",
            "Param Max-D=  6751 Min-samples-S=  2752\n",
            "Param Max-D=  7001 Min-samples-S=  2\n",
            "Param Max-D=  7001 Min-samples-S=  252\n",
            "Param Max-D=  7001 Min-samples-S=  502\n",
            "Param Max-D=  7001 Min-samples-S=  752\n",
            "Param Max-D=  7001 Min-samples-S=  1002\n",
            "Param Max-D=  7001 Min-samples-S=  1252\n",
            "Param Max-D=  7001 Min-samples-S=  1502\n",
            "Param Max-D=  7001 Min-samples-S=  1752\n",
            "Param Max-D=  7001 Min-samples-S=  2002\n",
            "Param Max-D=  7001 Min-samples-S=  2252\n",
            "Param Max-D=  7001 Min-samples-S=  2502\n",
            "Param Max-D=  7001 Min-samples-S=  2752\n",
            "Param Max-D=  7251 Min-samples-S=  2\n",
            "Param Max-D=  7251 Min-samples-S=  252\n",
            "Param Max-D=  7251 Min-samples-S=  502\n",
            "Param Max-D=  7251 Min-samples-S=  752\n",
            "Param Max-D=  7251 Min-samples-S=  1002\n",
            "Param Max-D=  7251 Min-samples-S=  1252\n",
            "Param Max-D=  7251 Min-samples-S=  1502\n",
            "Param Max-D=  7251 Min-samples-S=  1752\n",
            "Param Max-D=  7251 Min-samples-S=  2002\n",
            "Param Max-D=  7251 Min-samples-S=  2252\n",
            "Param Max-D=  7251 Min-samples-S=  2502\n",
            "Param Max-D=  7251 Min-samples-S=  2752\n",
            "Param Max-D=  7501 Min-samples-S=  2\n",
            "Param Max-D=  7501 Min-samples-S=  252\n",
            "Param Max-D=  7501 Min-samples-S=  502\n",
            "Param Max-D=  7501 Min-samples-S=  752\n",
            "Param Max-D=  7501 Min-samples-S=  1002\n",
            "Param Max-D=  7501 Min-samples-S=  1252\n",
            "Param Max-D=  7501 Min-samples-S=  1502\n",
            "Param Max-D=  7501 Min-samples-S=  1752\n",
            "Param Max-D=  7501 Min-samples-S=  2002\n",
            "Param Max-D=  7501 Min-samples-S=  2252\n",
            "Param Max-D=  7501 Min-samples-S=  2502\n",
            "Param Max-D=  7501 Min-samples-S=  2752\n",
            "Param Max-D=  7751 Min-samples-S=  2\n",
            "Param Max-D=  7751 Min-samples-S=  252\n",
            "Param Max-D=  7751 Min-samples-S=  502\n",
            "Param Max-D=  7751 Min-samples-S=  752\n",
            "Param Max-D=  7751 Min-samples-S=  1002\n",
            "Param Max-D=  7751 Min-samples-S=  1252\n",
            "Param Max-D=  7751 Min-samples-S=  1502\n",
            "Param Max-D=  7751 Min-samples-S=  1752\n",
            "Param Max-D=  7751 Min-samples-S=  2002\n",
            "Param Max-D=  7751 Min-samples-S=  2252\n",
            "Param Max-D=  7751 Min-samples-S=  2502\n",
            "Param Max-D=  7751 Min-samples-S=  2752\n",
            "Param Max-D=  8001 Min-samples-S=  2\n",
            "Param Max-D=  8001 Min-samples-S=  252\n",
            "Param Max-D=  8001 Min-samples-S=  502\n",
            "Param Max-D=  8001 Min-samples-S=  752\n",
            "Param Max-D=  8001 Min-samples-S=  1002\n",
            "Param Max-D=  8001 Min-samples-S=  1252\n",
            "Param Max-D=  8001 Min-samples-S=  1502\n",
            "Param Max-D=  8001 Min-samples-S=  1752\n",
            "Param Max-D=  8001 Min-samples-S=  2002\n",
            "Param Max-D=  8001 Min-samples-S=  2252\n",
            "Param Max-D=  8001 Min-samples-S=  2502\n",
            "Param Max-D=  8001 Min-samples-S=  2752\n",
            "Param Max-D=  8251 Min-samples-S=  2\n",
            "Param Max-D=  8251 Min-samples-S=  252\n",
            "Param Max-D=  8251 Min-samples-S=  502\n",
            "Param Max-D=  8251 Min-samples-S=  752\n",
            "Param Max-D=  8251 Min-samples-S=  1002\n",
            "Param Max-D=  8251 Min-samples-S=  1252\n",
            "Param Max-D=  8251 Min-samples-S=  1502\n",
            "Param Max-D=  8251 Min-samples-S=  1752\n",
            "Param Max-D=  8251 Min-samples-S=  2002\n",
            "Param Max-D=  8251 Min-samples-S=  2252\n",
            "Param Max-D=  8251 Min-samples-S=  2502\n",
            "Param Max-D=  8251 Min-samples-S=  2752\n",
            "Param Max-D=  8501 Min-samples-S=  2\n",
            "Param Max-D=  8501 Min-samples-S=  252\n",
            "Param Max-D=  8501 Min-samples-S=  502\n",
            "Param Max-D=  8501 Min-samples-S=  752\n",
            "Param Max-D=  8501 Min-samples-S=  1002\n",
            "Param Max-D=  8501 Min-samples-S=  1252\n",
            "Param Max-D=  8501 Min-samples-S=  1502\n",
            "Param Max-D=  8501 Min-samples-S=  1752\n",
            "Param Max-D=  8501 Min-samples-S=  2002\n",
            "Param Max-D=  8501 Min-samples-S=  2252\n",
            "Param Max-D=  8501 Min-samples-S=  2502\n",
            "Param Max-D=  8501 Min-samples-S=  2752\n"
          ],
          "name": "stdout"
        }
      ]
    },
    {
      "cell_type": "code",
      "metadata": {
        "id": "8g7x_WgQVuh_",
        "colab_type": "code",
        "outputId": "b79ae5ef-c0cc-4340-d8f5-7dcdeb6ef935",
        "colab": {
          "base_uri": "https://localhost:8080/",
          "height": 54
        }
      },
      "source": [
        "si = np.argwhere(tree_val_acc == max(tree_val_acc))[0][0]\n",
        "print('El máximo accuracy es = ' , max(tree_val_acc),' y se alcanza para una profundidad D= ', Depths[int(si/SamplesS.shape[0])], \n",
        "      ' y una cantidad mínima de muestra de ', SamplesS[si%SamplesS.shape[0]])\n"
      ],
      "execution_count": 33,
      "outputs": [
        {
          "output_type": "stream",
          "text": [
            "El máximo accuracy es =  0.6441631504922645  y se alcanza para una profundidad D=  4001  y una cantidad mínima de muestra de  752\n"
          ],
          "name": "stdout"
        }
      ]
    },
    {
      "cell_type": "code",
      "metadata": {
        "id": "whYRebTQF2gx",
        "colab_type": "code",
        "outputId": "08b47a7f-71fe-4de5-faaf-c7aa845684a6",
        "colab": {
          "base_uri": "https://localhost:8080/",
          "height": 272
        }
      },
      "source": [
        "#Evaluando sobre el mejor modelo obtenido. Fue la NN con 256 capas\n",
        "\n",
        "model, train_acc, test_acc = do_ANN(features_train, labels_train, features_test, labels_test,opt_neur, 'linear')\n",
        "#model.set_params(C=1000,kernel='rbf') #try rbf and linear at least\n",
        "print('Train ', train_acc)\n",
        "print('Test', test_acc)\n",
        "\n"
      ],
      "execution_count": 34,
      "outputs": [
        {
          "output_type": "stream",
          "text": [
            "Neuron hidden =  8\n",
            "Model: \"sequential_19\"\n",
            "_________________________________________________________________\n",
            "Layer (type)                 Output Shape              Param #   \n",
            "=================================================================\n",
            "dense_37 (Dense)             (None, 8)                 68744     \n",
            "_________________________________________________________________\n",
            "dense_38 (Dense)             (None, 1)                 9         \n",
            "=================================================================\n",
            "Total params: 68,753\n",
            "Trainable params: 68,753\n",
            "Non-trainable params: 0\n",
            "_________________________________________________________________\n",
            "Train  [0.38406208095691424, 0.895884629122774]\n",
            "Test [0.5796517506367582, 0.7062464828362408]\n"
          ],
          "name": "stdout"
        }
      ]
    },
    {
      "cell_type": "code",
      "metadata": {
        "id": "LYuoRxulmjZT",
        "colab_type": "code",
        "outputId": "5afbd568-0744-4d45-953c-e0159cd21297",
        "colab": {
          "base_uri": "https://localhost:8080/",
          "height": 122
        }
      },
      "source": [
        "pip install vaderSentiment"
      ],
      "execution_count": 35,
      "outputs": [
        {
          "output_type": "stream",
          "text": [
            "Collecting vaderSentiment\n",
            "\u001b[?25l  Downloading https://files.pythonhosted.org/packages/86/9e/c53e1fc61aac5ee490a6ac5e21b1ac04e55a7c2aba647bb8411c9aadf24e/vaderSentiment-3.2.1-py2.py3-none-any.whl (125kB)\n",
            "\r\u001b[K     |██▋                             | 10kB 31.3MB/s eta 0:00:01\r\u001b[K     |█████▏                          | 20kB 5.8MB/s eta 0:00:01\r\u001b[K     |███████▉                        | 30kB 8.3MB/s eta 0:00:01\r\u001b[K     |██████████▍                     | 40kB 5.3MB/s eta 0:00:01\r\u001b[K     |█████████████                   | 51kB 6.4MB/s eta 0:00:01\r\u001b[K     |███████████████▋                | 61kB 7.6MB/s eta 0:00:01\r\u001b[K     |██████████████████▎             | 71kB 8.7MB/s eta 0:00:01\r\u001b[K     |████████████████████▉           | 81kB 9.8MB/s eta 0:00:01\r\u001b[K     |███████████████████████▍        | 92kB 10.9MB/s eta 0:00:01\r\u001b[K     |██████████████████████████      | 102kB 8.8MB/s eta 0:00:01\r\u001b[K     |████████████████████████████▋   | 112kB 8.8MB/s eta 0:00:01\r\u001b[K     |███████████████████████████████▎| 122kB 8.8MB/s eta 0:00:01\r\u001b[K     |████████████████████████████████| 133kB 8.8MB/s \n",
            "\u001b[?25hInstalling collected packages: vaderSentiment\n",
            "Successfully installed vaderSentiment-3.2.1\n"
          ],
          "name": "stdout"
        }
      ]
    },
    {
      "cell_type": "markdown",
      "metadata": {
        "id": "1W9-T08P2pHP",
        "colab_type": "text"
      },
      "source": [
        "Como dice el enunciado de la pregunta, VADER es un modelo creado que analiza el 'sentimiento' de la oración. Él está creado de manera manual sobre un vocabulario ya establecido. \n",
        "\n",
        "Utilizando nuestro conjunto de oraciones de testeo, vemos que el accuracy es del 0.635, el cual queda muy por debajo de nuestra red neuronal (que fue el mejor modelo). Lo anterior sucede por dos razones. La primera, es que el modelo VADER está hecho con un vocabulario estándar, por lo tanto no se adhiere al contexto de nuestro problema (*film reviews*). Lo otro, es que nosotros sacamos más provecho aún de tener las oraciones en nuestro poder ya que pudimos identificar la forma lineal en la que se podían representar las reviews. El modelo VADER no lo hace, por la misma razón explicada anteriormente."
      ]
    },
    {
      "cell_type": "code",
      "metadata": {
        "id": "01qLfc0oHMzM",
        "colab_type": "code",
        "outputId": "8c866617-3cbe-467b-f2a6-242c03b7ca99",
        "colab": {
          "base_uri": "https://localhost:8080/",
          "height": 34
        }
      },
      "source": [
        "from vaderSentiment.vaderSentiment import SentimentIntensityAnalyzer \n",
        "def vader_predict(sentences): \n",
        "    sid_obj = SentimentIntensityAnalyzer() \n",
        "    sent_v = []\n",
        "    for text in sentences:\n",
        "        sentiment_dict = sid_obj.polarity_scores(text) \n",
        "        if sentiment_dict[\"pos\"] > sentiment_dict[\"neg\"]: #based on scores\n",
        "            sent_v.append(1)\n",
        "        else:\n",
        "            sent_v.append(0)\n",
        "    return np.asarray(sent_v)\n",
        "vader_pred_test = vader_predict(df_test_text) \n",
        "from sklearn.metrics import accuracy_score\n",
        "accuracy_score(labels_test, vader_pred_test)"
      ],
      "execution_count": 36,
      "outputs": [
        {
          "output_type": "execute_result",
          "data": {
            "text/plain": [
              "0.6359032076533483"
            ]
          },
          "metadata": {
            "tags": []
          },
          "execution_count": 36
        }
      ]
    },
    {
      "cell_type": "code",
      "metadata": {
        "id": "vzsJKjHEIaoQ",
        "colab_type": "code",
        "outputId": "c238a72a-b84b-4169-8f4b-b15345b9c357",
        "colab": {
          "base_uri": "https://localhost:8080/",
          "height": 306
        }
      },
      "source": [
        "vocab # Palabras set de entrenamiento\n",
        "\n",
        "#model= SVM()\n",
        "#model.set_params(C=1000,kernel='rbf', probability = True) #try rbf and linear at least\n",
        "#model.fit(features_train,labels_train)\n",
        "#print(model.score(features_train,labels_train))\n",
        "#print(model.score(features_test, labels_test))\n",
        "model1, train_acc1, test_acc1 = do_ANN(features_train, labels_train, features_test, labels_test,opt_neur, 'linear')\n",
        "print(model1.evaluate(features_train, labels_train))\n",
        "print(model1.evaluate(features_test, labels_test))\n",
        "\n",
        "V = len(vocab)\n",
        "word_score = np.zeros((V,2))\n",
        "for k in np.arange(V):\n",
        "  x_word = np.zeros((1,V))\n",
        "  x_word[:,k] = 1\n",
        "  a = model1.predict_proba(x_word)[0]\n",
        "  b = 1-a\n",
        "  #if model1.predict_classes(x_word)[0][0]==0:\n",
        "  word_score[k] = np.array([b,a]).T #Probabilidades de que pertenezca a cada clases. Cada columna indica\n",
        "                                            #una clase, partiendo desde el valor 0 en este caso que vendrían siendo las \n",
        "                                              #negativas\n"
      ],
      "execution_count": 37,
      "outputs": [
        {
          "output_type": "stream",
          "text": [
            "Neuron hidden =  8\n",
            "Model: \"sequential_20\"\n",
            "_________________________________________________________________\n",
            "Layer (type)                 Output Shape              Param #   \n",
            "=================================================================\n",
            "dense_39 (Dense)             (None, 8)                 68744     \n",
            "_________________________________________________________________\n",
            "dense_40 (Dense)             (None, 1)                 9         \n",
            "=================================================================\n",
            "Total params: 68,753\n",
            "Trainable params: 68,753\n",
            "Non-trainable params: 0\n",
            "_________________________________________________________________\n",
            "2843/2843 [==============================] - 0s 70us/step\n",
            "[0.3622788196607161, 0.9039746746394653]\n",
            "3554/3554 [==============================] - 0s 69us/step\n",
            "[0.5754514750162403, 0.7124366910523354]\n"
          ],
          "name": "stdout"
        }
      ]
    },
    {
      "cell_type": "markdown",
      "metadata": {
        "id": "I72_TXE39xOW",
        "colab_type": "text"
      },
      "source": [
        "En lo anterior lo único que hicimos fue testear, palabra por palabra de nuestro vocabulario de entrenamiento, cómo ellas son identificadas por nuestro modelo: positivas o negativas. Ello para ver cómo se le da peso individualmente a nuestras palabras. En el cuadro de abajo se muestran las 5 palabras más negativas y las 5 palabras más positivas.\n",
        "\n",
        "Por un lado, las palabras negativas tienen coherencia con lo que sucede en la realidad. Palabras como *bad* (malo), *boring, dull* (aburrido), *silly* (ridícula), son palabras de connotación negativa y que rara vez se utilizan en otro contexto. De hecho, en el contexto de una crítica, la palabra *problema* es utilizada generalmente como negativa y es por eso que nuestra red logra identificarla como negativa. Cabe destacar la gran probabilidad con la que estas palabras destacan en sus categorías.\n",
        "\n",
        "Por otro lado, las palabras positivas si se adaptan al contexto de las críticas pero no tanto en nuestro vocabulario en general. Por ejemplo, la palabra *performance* (actuación) en el contexto de críticas de cine (sobre todo críticas escritas en inglés) es utilizada como positiva. Sin embargo, nuestra red la muestra como la palabra que con mayor seguridad es positiva alcazando sólo un 67% de seguridad."
      ]
    },
    {
      "cell_type": "code",
      "metadata": {
        "id": "qEOs1By2JcQq",
        "colab_type": "code",
        "outputId": "693fe683-476a-4d34-8a6b-9db088883460",
        "colab": {
          "base_uri": "https://localhost:8080/",
          "height": 360
        }
      },
      "source": [
        "dic = {}\n",
        "dic['Vocabulario'] = vocab\n",
        "dic['Prob Negativo'] = word_score[:,0]\n",
        "dic['Prob Positivo'] = word_score[:,1]\n",
        "resume = pd.DataFrame(dic)\n",
        "neg = np.argwhere(max(resume['Prob Negativo'].values)==resume['Prob Negativo'])[0][0]\n",
        "pos = np.argwhere(min(resume['Prob Negativo'].values)==resume['Prob Negativo'])[0][0]\n",
        "\n",
        "print('Las palabras más negativas fueron \\n')\n",
        "print(resume.sort_values(by = 'Prob Negativo', axis = 0, ascending = False).head(), '\\n')\n",
        "\n",
        "print('Mientras que las más positivas fueron \\n')\n",
        "print(resume.sort_values(by = 'Prob Positivo', axis = 0, ascending = False).head())"
      ],
      "execution_count": 38,
      "outputs": [
        {
          "output_type": "stream",
          "text": [
            "Las palabras más negativas fueron \n",
            "\n",
            "     Vocabulario  Prob Negativo  Prob Positivo\n",
            "613          bad       0.833422       0.166578\n",
            "889       boring       0.776297       0.223703\n",
            "2303        dull       0.771122       0.228878\n",
            "6093      really       0.748522       0.251478\n",
            "6842       silly       0.723907       0.276093 \n",
            "\n",
            "Mientras que las más positivas fueron \n",
            "\n",
            "      Vocabulario  Prob Negativo  Prob Positivo\n",
            "5524  performance       0.287132       0.712868\n",
            "3139          fun       0.287196       0.712804\n",
            "3523        heart       0.307740       0.692260\n",
            "4976       moving       0.310383       0.689617\n",
            "6052         rare       0.322636       0.677364\n"
          ],
          "name": "stdout"
        },
        {
          "output_type": "stream",
          "text": [
            "/usr/local/lib/python3.6/dist-packages/numpy/core/fromnumeric.py:61: FutureWarning: Series.nonzero() is deprecated and will be removed in a future version.Use Series.to_numpy().nonzero() instead\n",
            "  return bound(*args, **kwds)\n"
          ],
          "name": "stderr"
        }
      ]
    },
    {
      "cell_type": "code",
      "metadata": {
        "id": "JqnR0gfkOFh_",
        "colab_type": "code",
        "colab": {}
      },
      "source": [
        "#n)\n"
      ],
      "execution_count": 0,
      "outputs": []
    },
    {
      "cell_type": "markdown",
      "metadata": {
        "id": "XDidBvznFVTM",
        "colab_type": "text"
      },
      "source": [
        "En lo que sigue utilizamos un vectorizador distinto al del item c). En este caso se le da no sólo importancia a la frecuencia con la que aparece la palabra en una frase, si no que se suma (el logaritmo) se fue frecuencia en todo el documento (texts_train en este caso). Ello da un significado más preciso del peso que tienen alguna de las palabras en nuestro vocabulario ya que una palabra puede aparecer 5 veces en una frase, pero puede ser que sólo aparezca en esa frase de un universo grande de frases (en este caso 2500 app). Por lo tanto, nuestro nuevo pre procesamiento toma en cuenta el peso de la palabra en todo nuestro vocabulario de frases."
      ]
    },
    {
      "cell_type": "code",
      "metadata": {
        "id": "ffegY0umNuC4",
        "colab_type": "code",
        "colab": {}
      },
      "source": [
        "#O)\n",
        "#Term frequency times inverse document frequency\n",
        "from sklearn.feature_extraction.text import TfidfVectorizer\n",
        "tfidf_model = TfidfVectorizer(binary=False, ngram_range=(1,1), max_df=1.0, min_df=2, max_features=None, \n",
        "                              norm='l2', use_idf=True, sublinear_tf=False, smooth_idf = True)\n",
        "tfidf_model.fit(texts_train)\n",
        "\n",
        "menos_freq_train = tfidf_model.transform(texts_train)\n",
        "menos_freq_val = tfidf_model.transform(texts_val)\n",
        "menos_freq_test = tfidf_model.transform(texts_test)"
      ],
      "execution_count": 0,
      "outputs": []
    },
    {
      "cell_type": "markdown",
      "metadata": {
        "id": "_4FoVHTTF1wh",
        "colab_type": "text"
      },
      "source": [
        "En base al nuevo conjunto de entrenamiento ya definido, se decidió testear distintas formas de pre procesar nuestros datos. Alguna de ellas es eliminar aquellas palabras con pocas frecuencia o cambiar la forma en que se leen las frases (ngam). Testearemos estos nuevos datos en los casos de nuestra red neuronal (que fue el mejor modelo) y el modelo de regresión logística que nos mostró lo bien adaptado que está al caso lineal nuestro problema (De hecho, consigue un acc similar al de nuestra red)."
      ]
    },
    {
      "cell_type": "code",
      "metadata": {
        "id": "WQOGaQF19Ipr",
        "colab_type": "code",
        "outputId": "8201676e-5b99-4e2a-a7f4-fee256090f05",
        "colab": {
          "base_uri": "https://localhost:8080/",
          "height": 1000
        }
      },
      "source": [
        "train1_error = []\n",
        "val1_error = []\n",
        "train1_accu=[]\n",
        "val1_accu = []\n",
        "tokenis1 = TfidfVectorizer(binary=False, ngram_range=(1,1), max_df=1.0, min_df=2, max_features=None, \n",
        "                              norm='l2', use_idf=True, sublinear_tf=False, smooth_idf = True)\n",
        "tokenis2 = TfidfVectorizer(binary=False, ngram_range=(1,1), max_df=1.0, min_df=3, max_features=None, \n",
        "                              norm='l2', use_idf=True, sublinear_tf=False, smooth_idf = True)\n",
        "tokenis3 = TfidfVectorizer(binary=False, ngram_range=(1,2), max_df=1.0, min_df=1, max_features=None, \n",
        "                              norm='l2', use_idf=True, sublinear_tf=False, smooth_idf = True)\n",
        "tokenis4 = TfidfVectorizer(binary=False, ngram_range=(2,2), max_df=1.0, min_df=1, max_features=None, \n",
        "                              norm='l2', use_idf=True, sublinear_tf=False, smooth_idf = True)\n",
        "modelos = [tokenis1,tokenis2,tokenis3,tokenis4]\n",
        "\n",
        "for claro in modelos:\n",
        "  claro.fit(texts_train)\n",
        "\n",
        "  menos_freq_train = claro.transform(texts_train)\n",
        "  menos_freq_val = claro.transform(texts_val)\n",
        "  menos_freq_test = claro.transform(texts_test)\n",
        "  for k in N_h:\n",
        "    model1_menos_freq, train1_acc, val1_acc = do_ANN(menos_freq_train,labels_train, menos_freq_test,labels_test,\n",
        "                                                              k,'linear')\n",
        "    train1_error = train1_error + [train1_acc[0]]\n",
        "    val1_error = val1_error + [val1_acc[0]] \n",
        "    train1_accu = train1_accu + [train1_acc[1]]\n",
        "    val1_accu = val1_accu + [val1_acc[1]]"
      ],
      "execution_count": 40,
      "outputs": [
        {
          "output_type": "stream",
          "text": [
            "Neuron hidden =  2\n",
            "Model: \"sequential_21\"\n",
            "_________________________________________________________________\n",
            "Layer (type)                 Output Shape              Param #   \n",
            "=================================================================\n",
            "dense_41 (Dense)             (None, 2)                 7802      \n",
            "_________________________________________________________________\n",
            "dense_42 (Dense)             (None, 1)                 3         \n",
            "=================================================================\n",
            "Total params: 7,805\n",
            "Trainable params: 7,805\n",
            "Non-trainable params: 0\n",
            "_________________________________________________________________\n",
            "Neuron hidden =  4\n",
            "Model: \"sequential_22\"\n",
            "_________________________________________________________________\n",
            "Layer (type)                 Output Shape              Param #   \n",
            "=================================================================\n",
            "dense_43 (Dense)             (None, 4)                 15604     \n",
            "_________________________________________________________________\n",
            "dense_44 (Dense)             (None, 1)                 5         \n",
            "=================================================================\n",
            "Total params: 15,609\n",
            "Trainable params: 15,609\n",
            "Non-trainable params: 0\n",
            "_________________________________________________________________\n",
            "Neuron hidden =  8\n",
            "Model: \"sequential_23\"\n",
            "_________________________________________________________________\n",
            "Layer (type)                 Output Shape              Param #   \n",
            "=================================================================\n",
            "dense_45 (Dense)             (None, 8)                 31208     \n",
            "_________________________________________________________________\n",
            "dense_46 (Dense)             (None, 1)                 9         \n",
            "=================================================================\n",
            "Total params: 31,217\n",
            "Trainable params: 31,217\n",
            "Non-trainable params: 0\n",
            "_________________________________________________________________\n",
            "Neuron hidden =  16\n",
            "Model: \"sequential_24\"\n",
            "_________________________________________________________________\n",
            "Layer (type)                 Output Shape              Param #   \n",
            "=================================================================\n",
            "dense_47 (Dense)             (None, 16)                62416     \n",
            "_________________________________________________________________\n",
            "dense_48 (Dense)             (None, 1)                 17        \n",
            "=================================================================\n",
            "Total params: 62,433\n",
            "Trainable params: 62,433\n",
            "Non-trainable params: 0\n",
            "_________________________________________________________________\n",
            "Neuron hidden =  32\n",
            "Model: \"sequential_25\"\n",
            "_________________________________________________________________\n",
            "Layer (type)                 Output Shape              Param #   \n",
            "=================================================================\n",
            "dense_49 (Dense)             (None, 32)                124832    \n",
            "_________________________________________________________________\n",
            "dense_50 (Dense)             (None, 1)                 33        \n",
            "=================================================================\n",
            "Total params: 124,865\n",
            "Trainable params: 124,865\n",
            "Non-trainable params: 0\n",
            "_________________________________________________________________\n",
            "Neuron hidden =  64\n",
            "Model: \"sequential_26\"\n",
            "_________________________________________________________________\n",
            "Layer (type)                 Output Shape              Param #   \n",
            "=================================================================\n",
            "dense_51 (Dense)             (None, 64)                249664    \n",
            "_________________________________________________________________\n",
            "dense_52 (Dense)             (None, 1)                 65        \n",
            "=================================================================\n",
            "Total params: 249,729\n",
            "Trainable params: 249,729\n",
            "Non-trainable params: 0\n",
            "_________________________________________________________________\n",
            "Neuron hidden =  128\n",
            "Model: \"sequential_27\"\n",
            "_________________________________________________________________\n",
            "Layer (type)                 Output Shape              Param #   \n",
            "=================================================================\n",
            "dense_53 (Dense)             (None, 128)               499328    \n",
            "_________________________________________________________________\n",
            "dense_54 (Dense)             (None, 1)                 129       \n",
            "=================================================================\n",
            "Total params: 499,457\n",
            "Trainable params: 499,457\n",
            "Non-trainable params: 0\n",
            "_________________________________________________________________\n",
            "Neuron hidden =  256\n",
            "Model: \"sequential_28\"\n",
            "_________________________________________________________________\n",
            "Layer (type)                 Output Shape              Param #   \n",
            "=================================================================\n",
            "dense_55 (Dense)             (None, 256)               998656    \n",
            "_________________________________________________________________\n",
            "dense_56 (Dense)             (None, 1)                 257       \n",
            "=================================================================\n",
            "Total params: 998,913\n",
            "Trainable params: 998,913\n",
            "Non-trainable params: 0\n",
            "_________________________________________________________________\n",
            "Neuron hidden =  512\n",
            "Model: \"sequential_29\"\n",
            "_________________________________________________________________\n",
            "Layer (type)                 Output Shape              Param #   \n",
            "=================================================================\n",
            "dense_57 (Dense)             (None, 512)               1997312   \n",
            "_________________________________________________________________\n",
            "dense_58 (Dense)             (None, 1)                 513       \n",
            "=================================================================\n",
            "Total params: 1,997,825\n",
            "Trainable params: 1,997,825\n",
            "Non-trainable params: 0\n",
            "_________________________________________________________________\n",
            "Neuron hidden =  2\n",
            "Model: \"sequential_30\"\n",
            "_________________________________________________________________\n",
            "Layer (type)                 Output Shape              Param #   \n",
            "=================================================================\n",
            "dense_59 (Dense)             (None, 2)                 4876      \n",
            "_________________________________________________________________\n",
            "dense_60 (Dense)             (None, 1)                 3         \n",
            "=================================================================\n",
            "Total params: 4,879\n",
            "Trainable params: 4,879\n",
            "Non-trainable params: 0\n",
            "_________________________________________________________________\n",
            "Neuron hidden =  4\n",
            "Model: \"sequential_31\"\n",
            "_________________________________________________________________\n",
            "Layer (type)                 Output Shape              Param #   \n",
            "=================================================================\n",
            "dense_61 (Dense)             (None, 4)                 9752      \n",
            "_________________________________________________________________\n",
            "dense_62 (Dense)             (None, 1)                 5         \n",
            "=================================================================\n",
            "Total params: 9,757\n",
            "Trainable params: 9,757\n",
            "Non-trainable params: 0\n",
            "_________________________________________________________________\n",
            "Neuron hidden =  8\n",
            "Model: \"sequential_32\"\n",
            "_________________________________________________________________\n",
            "Layer (type)                 Output Shape              Param #   \n",
            "=================================================================\n",
            "dense_63 (Dense)             (None, 8)                 19504     \n",
            "_________________________________________________________________\n",
            "dense_64 (Dense)             (None, 1)                 9         \n",
            "=================================================================\n",
            "Total params: 19,513\n",
            "Trainable params: 19,513\n",
            "Non-trainable params: 0\n",
            "_________________________________________________________________\n",
            "Neuron hidden =  16\n",
            "Model: \"sequential_33\"\n",
            "_________________________________________________________________\n",
            "Layer (type)                 Output Shape              Param #   \n",
            "=================================================================\n",
            "dense_65 (Dense)             (None, 16)                39008     \n",
            "_________________________________________________________________\n",
            "dense_66 (Dense)             (None, 1)                 17        \n",
            "=================================================================\n",
            "Total params: 39,025\n",
            "Trainable params: 39,025\n",
            "Non-trainable params: 0\n",
            "_________________________________________________________________\n",
            "Neuron hidden =  32\n",
            "Model: \"sequential_34\"\n",
            "_________________________________________________________________\n",
            "Layer (type)                 Output Shape              Param #   \n",
            "=================================================================\n",
            "dense_67 (Dense)             (None, 32)                78016     \n",
            "_________________________________________________________________\n",
            "dense_68 (Dense)             (None, 1)                 33        \n",
            "=================================================================\n",
            "Total params: 78,049\n",
            "Trainable params: 78,049\n",
            "Non-trainable params: 0\n",
            "_________________________________________________________________\n",
            "Neuron hidden =  64\n",
            "Model: \"sequential_35\"\n",
            "_________________________________________________________________\n",
            "Layer (type)                 Output Shape              Param #   \n",
            "=================================================================\n",
            "dense_69 (Dense)             (None, 64)                156032    \n",
            "_________________________________________________________________\n",
            "dense_70 (Dense)             (None, 1)                 65        \n",
            "=================================================================\n",
            "Total params: 156,097\n",
            "Trainable params: 156,097\n",
            "Non-trainable params: 0\n",
            "_________________________________________________________________\n",
            "Neuron hidden =  128\n",
            "Model: \"sequential_36\"\n",
            "_________________________________________________________________\n",
            "Layer (type)                 Output Shape              Param #   \n",
            "=================================================================\n",
            "dense_71 (Dense)             (None, 128)               312064    \n",
            "_________________________________________________________________\n",
            "dense_72 (Dense)             (None, 1)                 129       \n",
            "=================================================================\n",
            "Total params: 312,193\n",
            "Trainable params: 312,193\n",
            "Non-trainable params: 0\n",
            "_________________________________________________________________\n",
            "Neuron hidden =  256\n",
            "Model: \"sequential_37\"\n",
            "_________________________________________________________________\n",
            "Layer (type)                 Output Shape              Param #   \n",
            "=================================================================\n",
            "dense_73 (Dense)             (None, 256)               624128    \n",
            "_________________________________________________________________\n",
            "dense_74 (Dense)             (None, 1)                 257       \n",
            "=================================================================\n",
            "Total params: 624,385\n",
            "Trainable params: 624,385\n",
            "Non-trainable params: 0\n",
            "_________________________________________________________________\n",
            "Neuron hidden =  512\n",
            "Model: \"sequential_38\"\n",
            "_________________________________________________________________\n",
            "Layer (type)                 Output Shape              Param #   \n",
            "=================================================================\n",
            "dense_75 (Dense)             (None, 512)               1248256   \n",
            "_________________________________________________________________\n",
            "dense_76 (Dense)             (None, 1)                 513       \n",
            "=================================================================\n",
            "Total params: 1,248,769\n",
            "Trainable params: 1,248,769\n",
            "Non-trainable params: 0\n",
            "_________________________________________________________________\n",
            "Neuron hidden =  2\n",
            "Model: \"sequential_39\"\n",
            "_________________________________________________________________\n",
            "Layer (type)                 Output Shape              Param #   \n",
            "=================================================================\n",
            "dense_77 (Dense)             (None, 2)                 69514     \n",
            "_________________________________________________________________\n",
            "dense_78 (Dense)             (None, 1)                 3         \n",
            "=================================================================\n",
            "Total params: 69,517\n",
            "Trainable params: 69,517\n",
            "Non-trainable params: 0\n",
            "_________________________________________________________________\n",
            "Neuron hidden =  4\n",
            "Model: \"sequential_40\"\n",
            "_________________________________________________________________\n",
            "Layer (type)                 Output Shape              Param #   \n",
            "=================================================================\n",
            "dense_79 (Dense)             (None, 4)                 139028    \n",
            "_________________________________________________________________\n",
            "dense_80 (Dense)             (None, 1)                 5         \n",
            "=================================================================\n",
            "Total params: 139,033\n",
            "Trainable params: 139,033\n",
            "Non-trainable params: 0\n",
            "_________________________________________________________________\n",
            "Neuron hidden =  8\n",
            "Model: \"sequential_41\"\n",
            "_________________________________________________________________\n",
            "Layer (type)                 Output Shape              Param #   \n",
            "=================================================================\n",
            "dense_81 (Dense)             (None, 8)                 278056    \n",
            "_________________________________________________________________\n",
            "dense_82 (Dense)             (None, 1)                 9         \n",
            "=================================================================\n",
            "Total params: 278,065\n",
            "Trainable params: 278,065\n",
            "Non-trainable params: 0\n",
            "_________________________________________________________________\n",
            "Neuron hidden =  16\n",
            "Model: \"sequential_42\"\n",
            "_________________________________________________________________\n",
            "Layer (type)                 Output Shape              Param #   \n",
            "=================================================================\n",
            "dense_83 (Dense)             (None, 16)                556112    \n",
            "_________________________________________________________________\n",
            "dense_84 (Dense)             (None, 1)                 17        \n",
            "=================================================================\n",
            "Total params: 556,129\n",
            "Trainable params: 556,129\n",
            "Non-trainable params: 0\n",
            "_________________________________________________________________\n",
            "Neuron hidden =  32\n",
            "Model: \"sequential_43\"\n",
            "_________________________________________________________________\n",
            "Layer (type)                 Output Shape              Param #   \n",
            "=================================================================\n",
            "dense_85 (Dense)             (None, 32)                1112224   \n",
            "_________________________________________________________________\n",
            "dense_86 (Dense)             (None, 1)                 33        \n",
            "=================================================================\n",
            "Total params: 1,112,257\n",
            "Trainable params: 1,112,257\n",
            "Non-trainable params: 0\n",
            "_________________________________________________________________\n",
            "Neuron hidden =  64\n",
            "Model: \"sequential_44\"\n",
            "_________________________________________________________________\n",
            "Layer (type)                 Output Shape              Param #   \n",
            "=================================================================\n",
            "dense_87 (Dense)             (None, 64)                2224448   \n",
            "_________________________________________________________________\n",
            "dense_88 (Dense)             (None, 1)                 65        \n",
            "=================================================================\n",
            "Total params: 2,224,513\n",
            "Trainable params: 2,224,513\n",
            "Non-trainable params: 0\n",
            "_________________________________________________________________\n",
            "Neuron hidden =  128\n",
            "Model: \"sequential_45\"\n",
            "_________________________________________________________________\n",
            "Layer (type)                 Output Shape              Param #   \n",
            "=================================================================\n",
            "dense_89 (Dense)             (None, 128)               4448896   \n",
            "_________________________________________________________________\n",
            "dense_90 (Dense)             (None, 1)                 129       \n",
            "=================================================================\n",
            "Total params: 4,449,025\n",
            "Trainable params: 4,449,025\n",
            "Non-trainable params: 0\n",
            "_________________________________________________________________\n",
            "Neuron hidden =  256\n",
            "Model: \"sequential_46\"\n",
            "_________________________________________________________________\n",
            "Layer (type)                 Output Shape              Param #   \n",
            "=================================================================\n",
            "dense_91 (Dense)             (None, 256)               8897792   \n",
            "_________________________________________________________________\n",
            "dense_92 (Dense)             (None, 1)                 257       \n",
            "=================================================================\n",
            "Total params: 8,898,049\n",
            "Trainable params: 8,898,049\n",
            "Non-trainable params: 0\n",
            "_________________________________________________________________\n",
            "Neuron hidden =  512\n",
            "Model: \"sequential_47\"\n",
            "_________________________________________________________________\n",
            "Layer (type)                 Output Shape              Param #   \n",
            "=================================================================\n",
            "dense_93 (Dense)             (None, 512)               17795584  \n",
            "_________________________________________________________________\n",
            "dense_94 (Dense)             (None, 1)                 513       \n",
            "=================================================================\n",
            "Total params: 17,796,097\n",
            "Trainable params: 17,796,097\n",
            "Non-trainable params: 0\n",
            "_________________________________________________________________\n",
            "Neuron hidden =  2\n",
            "Model: \"sequential_48\"\n",
            "_________________________________________________________________\n",
            "Layer (type)                 Output Shape              Param #   \n",
            "=================================================================\n",
            "dense_95 (Dense)             (None, 2)                 52330     \n",
            "_________________________________________________________________\n",
            "dense_96 (Dense)             (None, 1)                 3         \n",
            "=================================================================\n",
            "Total params: 52,333\n",
            "Trainable params: 52,333\n",
            "Non-trainable params: 0\n",
            "_________________________________________________________________\n",
            "Neuron hidden =  4\n",
            "Model: \"sequential_49\"\n",
            "_________________________________________________________________\n",
            "Layer (type)                 Output Shape              Param #   \n",
            "=================================================================\n",
            "dense_97 (Dense)             (None, 4)                 104660    \n",
            "_________________________________________________________________\n",
            "dense_98 (Dense)             (None, 1)                 5         \n",
            "=================================================================\n",
            "Total params: 104,665\n",
            "Trainable params: 104,665\n",
            "Non-trainable params: 0\n",
            "_________________________________________________________________\n",
            "Neuron hidden =  8\n",
            "Model: \"sequential_50\"\n",
            "_________________________________________________________________\n",
            "Layer (type)                 Output Shape              Param #   \n",
            "=================================================================\n",
            "dense_99 (Dense)             (None, 8)                 209320    \n",
            "_________________________________________________________________\n",
            "dense_100 (Dense)            (None, 1)                 9         \n",
            "=================================================================\n",
            "Total params: 209,329\n",
            "Trainable params: 209,329\n",
            "Non-trainable params: 0\n",
            "_________________________________________________________________\n",
            "Neuron hidden =  16\n",
            "Model: \"sequential_51\"\n",
            "_________________________________________________________________\n",
            "Layer (type)                 Output Shape              Param #   \n",
            "=================================================================\n",
            "dense_101 (Dense)            (None, 16)                418640    \n",
            "_________________________________________________________________\n",
            "dense_102 (Dense)            (None, 1)                 17        \n",
            "=================================================================\n",
            "Total params: 418,657\n",
            "Trainable params: 418,657\n",
            "Non-trainable params: 0\n",
            "_________________________________________________________________\n",
            "Neuron hidden =  32\n",
            "Model: \"sequential_52\"\n",
            "_________________________________________________________________\n",
            "Layer (type)                 Output Shape              Param #   \n",
            "=================================================================\n",
            "dense_103 (Dense)            (None, 32)                837280    \n",
            "_________________________________________________________________\n",
            "dense_104 (Dense)            (None, 1)                 33        \n",
            "=================================================================\n",
            "Total params: 837,313\n",
            "Trainable params: 837,313\n",
            "Non-trainable params: 0\n",
            "_________________________________________________________________\n",
            "Neuron hidden =  64\n",
            "Model: \"sequential_53\"\n",
            "_________________________________________________________________\n",
            "Layer (type)                 Output Shape              Param #   \n",
            "=================================================================\n",
            "dense_105 (Dense)            (None, 64)                1674560   \n",
            "_________________________________________________________________\n",
            "dense_106 (Dense)            (None, 1)                 65        \n",
            "=================================================================\n",
            "Total params: 1,674,625\n",
            "Trainable params: 1,674,625\n",
            "Non-trainable params: 0\n",
            "_________________________________________________________________\n",
            "Neuron hidden =  128\n",
            "Model: \"sequential_54\"\n",
            "_________________________________________________________________\n",
            "Layer (type)                 Output Shape              Param #   \n",
            "=================================================================\n",
            "dense_107 (Dense)            (None, 128)               3349120   \n",
            "_________________________________________________________________\n",
            "dense_108 (Dense)            (None, 1)                 129       \n",
            "=================================================================\n",
            "Total params: 3,349,249\n",
            "Trainable params: 3,349,249\n",
            "Non-trainable params: 0\n",
            "_________________________________________________________________\n",
            "Neuron hidden =  256\n",
            "Model: \"sequential_55\"\n",
            "_________________________________________________________________\n",
            "Layer (type)                 Output Shape              Param #   \n",
            "=================================================================\n",
            "dense_109 (Dense)            (None, 256)               6698240   \n",
            "_________________________________________________________________\n",
            "dense_110 (Dense)            (None, 1)                 257       \n",
            "=================================================================\n",
            "Total params: 6,698,497\n",
            "Trainable params: 6,698,497\n",
            "Non-trainable params: 0\n",
            "_________________________________________________________________\n",
            "Neuron hidden =  512\n",
            "Model: \"sequential_56\"\n",
            "_________________________________________________________________\n",
            "Layer (type)                 Output Shape              Param #   \n",
            "=================================================================\n",
            "dense_111 (Dense)            (None, 512)               13396480  \n",
            "_________________________________________________________________\n",
            "dense_112 (Dense)            (None, 1)                 513       \n",
            "=================================================================\n",
            "Total params: 13,396,993\n",
            "Trainable params: 13,396,993\n",
            "Non-trainable params: 0\n",
            "_________________________________________________________________\n"
          ],
          "name": "stdout"
        }
      ]
    },
    {
      "cell_type": "markdown",
      "metadata": {
        "id": "Q2WqbngGGKhn",
        "colab_type": "text"
      },
      "source": [
        "En los gráficos de abajo, se logra ver que el mejor accuracy es de 0.69, que es menor al original. Por lo tanto este cambio de preprocesamiento no logra mejorar nuestra red."
      ]
    },
    {
      "cell_type": "code",
      "metadata": {
        "id": "jF7OYcEP_zPG",
        "colab_type": "code",
        "outputId": "2c460c62-7c53-4f2d-d50b-9d6f6b78d363",
        "colab": {
          "base_uri": "https://localhost:8080/",
          "height": 709
        }
      },
      "source": [
        "larguito = len(N_h)\n",
        "casos = ['Frecuencia al menos de 2', 'Frecuencia al menos 3', '(1,2) ngam', '(2,2) ngam']\n",
        "plt.figure(figsize= (10,10))\n",
        "for k in np.arange(4):\n",
        "  plt.subplot(2,2,k+1)\n",
        "  plt.plot(N_h,train1_accu[k*larguito:(k+1)*larguito], '-o', label = 'Train accu', markersize = 4)\n",
        "  plt.plot(N_h, val1_accu[k*larguito:(k+1)*larguito], '-o', label =' val accu' , markersize = 4 )\n",
        "  plt.xlabel ('Número de neuronas')\n",
        "  plt.ylabel('accu medio')\n",
        "  plt.title(casos[k])\n",
        "  plt.legend()\n",
        "\n",
        "  print('El mayor accuracy es del caso ', casos[k] ,' es : ', max(val1_accu[k*larguito:(k+1)*larguito]), ' y se alcanza con una cantidad de neurones igual a ',\n",
        "      N_h[np.argwhere(val1_accu[k*larguito:(k+1)*larguito] == max(val1_accu[k*larguito:(k+1)*larguito]))[0][0]])"
      ],
      "execution_count": 41,
      "outputs": [
        {
          "output_type": "stream",
          "text": [
            "El mayor accuracy es del caso  Frecuencia al menos de 2  es :  0.6789532920652785  y se alcanza con una cantidad de neurones igual a  512\n",
            "El mayor accuracy es del caso  Frecuencia al menos 3  es :  0.6803601575689364  y se alcanza con una cantidad de neurones igual a  16\n",
            "El mayor accuracy es del caso  (1,2) ngam  es :  0.6935846933033202  y se alcanza con una cantidad de neurones igual a  16\n",
            "El mayor accuracy es del caso  (2,2) ngam  es :  0.5551491277433878  y se alcanza con una cantidad de neurones igual a  512\n"
          ],
          "name": "stdout"
        },
        {
          "output_type": "display_data",
          "data": {
            "image/png": "[encoded data removed]",
            "text/plain": [
              "<Figure size 720x720 with 4 Axes>"
            ]
          },
          "metadata": {
            "tags": []
          }
        }
      ]
    },
    {
      "cell_type": "markdown",
      "metadata": {
        "id": "n_rZmkMBJcnH",
        "colab_type": "text"
      },
      "source": [
        "Ahora, haciendo el testeo para el caso de la regresión logística, considerando los mismos pre porcesamientos para la NN, tenemos que el modelo mejor considerablemente al original. De hecho, la mejor se da en el caso que considera ngam = (1,2). Lo anterior es debido a que en este caso estamos considerando monograma y bigramas al mismo tiempo. Por lo tanto tenemos muchísimos más datos y, claramente, el modelo sigue siendo lineal ya que logra mejorarlalo en casi 2 puntos porcentuales."
      ]
    },
    {
      "cell_type": "code",
      "metadata": {
        "id": "uDOKKbj8HpUP",
        "colab_type": "code",
        "outputId": "98ecfcf9-3f08-43b7-c6c7-60657d501e4e",
        "colab": {
          "base_uri": "https://localhost:8080/",
          "height": 1000
        }
      },
      "source": [
        "train1_log_acc = []\n",
        "val1_log_acc = []\n",
        "log_models = []\n",
        "for claro in modelos:\n",
        "  claro.fit(texts_train)\n",
        "  menos_freq_train = claro.transform(texts_train)\n",
        "  menos_freq_val = claro.transform(texts_val)\n",
        "  menos_freq_test = claro.transform(texts_test)\n",
        "  for k in Cs:\n",
        "    a,b,c = do_LOGIT(menos_freq_train, labels_train, menos_freq_test, labels_test, k)\n",
        "    train1_log_acc = train1_log_acc + [b]\n",
        "    val1_log_acc = val1_log_acc + [c]\n",
        "    log_models = log_models + [a]\n",
        "\n",
        "largo1 = len(Cs)\n",
        "plt.figure(figsize = (10,10))\n",
        "for k in np.arange(4):\n",
        "  plt.subplot(2,2,k+1)\n",
        "  plt.plot(np.log10(Cs), train1_log_acc[k*largo1:(k+1)*largo1], 'x', label = 'Train acc')\n",
        "  plt.plot(np.log10(Cs), val1_log_acc[k*largo1:(k+1)*largo1], 'o', label= 'Val acc')\n",
        "  plt.xlabel('Log10 parametro')\n",
        "  plt.ylabel('Accuracy')\n",
        "  plt.title(casos[k])\n",
        "  plt.legend()\n",
        "\n",
        "  print('Accuracy Máxima para el caso' , casos[k], ' es ', max(val1_log_acc[k*largo1: (k+1)*largo1]),\n",
        "        ' y se alcanza en el parámetro C= ',\n",
        "        Cs[np.argwhere(val1_log_acc[k*largo1: (k+1)*largo1]==max(val1_log_acc[k*largo1: (k+1)*largo1]))[0][0]] )"
      ],
      "execution_count": 42,
      "outputs": [
        {
          "output_type": "stream",
          "text": [
            "Param C=  0.0001\n",
            "Param C=  0.001\n",
            "Param C=  0.01\n",
            "Param C=  0.1\n",
            "Param C=  1.0\n",
            "Param C=  10.0\n",
            "Param C=  100.0\n",
            "Param C=  1000.0\n",
            "Param C=  0.0001\n",
            "Param C=  0.001\n"
          ],
          "name": "stdout"
        },
        {
          "output_type": "stream",
          "text": [
            "/usr/local/lib/python3.6/dist-packages/sklearn/linear_model/logistic.py:432: FutureWarning: Default solver will be changed to 'lbfgs' in 0.22. Specify a solver to silence this warning.\n",
            "  FutureWarning)\n",
            "/usr/local/lib/python3.6/dist-packages/sklearn/linear_model/logistic.py:432: FutureWarning: Default solver will be changed to 'lbfgs' in 0.22. Specify a solver to silence this warning.\n",
            "  FutureWarning)\n"
          ],
          "name": "stderr"
        },
        {
          "output_type": "stream",
          "text": [
            "Param C=  0.01\n",
            "Param C=  0.1\n",
            "Param C=  1.0\n",
            "Param C=  10.0\n",
            "Param C=  100.0\n",
            "Param C=  1000.0\n",
            "Param C=  0.0001\n",
            "Param C=  0.001\n",
            "Param C=  0.01\n",
            "Param C=  0.1\n",
            "Param C=  1.0\n",
            "Param C=  10.0\n",
            "Param C=  100.0\n",
            "Param C=  1000.0\n"
          ],
          "name": "stdout"
        },
        {
          "output_type": "stream",
          "text": [
            "/usr/local/lib/python3.6/dist-packages/sklearn/linear_model/logistic.py:432: FutureWarning: Default solver will be changed to 'lbfgs' in 0.22. Specify a solver to silence this warning.\n",
            "  FutureWarning)\n"
          ],
          "name": "stderr"
        },
        {
          "output_type": "stream",
          "text": [
            "Param C=  0.0001\n",
            "Param C=  0.001\n",
            "Param C=  0.01\n",
            "Param C=  0.1\n",
            "Param C=  1.0\n",
            "Param C=  10.0\n",
            "Param C=  100.0\n",
            "Param C=  1000.0\n",
            "Accuracy Máxima para el caso Frecuencia al menos de 2  es  0.7298818232976927  y se alcanza en el parámetro C=  1.0\n",
            "Accuracy Máxima para el caso Frecuencia al menos 3  es  0.7189082723691615  y se alcanza en el parámetro C=  1.0\n",
            "Accuracy Máxima para el caso (1,2) ngam  es  0.7355092853123242  y se alcanza en el parámetro C=  100.0\n",
            "Accuracy Máxima para el caso (2,2) ngam  es  0.5832864378165448  y se alcanza en el parámetro C=  1.0\n"
          ],
          "name": "stdout"
        },
        {
          "output_type": "stream",
          "text": [
            "/usr/local/lib/python3.6/dist-packages/sklearn/linear_model/logistic.py:432: FutureWarning: Default solver will be changed to 'lbfgs' in 0.22. Specify a solver to silence this warning.\n",
            "  FutureWarning)\n"
          ],
          "name": "stderr"
        },
        {
          "output_type": "display_data",
          "data": {
            "image/png": "[encoded data removed]",
            "text/plain": [
              "<Figure size 720x720 with 4 Axes>"
            ]
          },
          "metadata": {
            "tags": []
          }
        }
      ]
    },
    {
      "cell_type": "markdown",
      "metadata": {
        "id": "yO2V468lKV19",
        "colab_type": "text"
      },
      "source": [
        "Para el caso de nuestra red, estudiamos la precisón y la exhaustividad de nuestro modelo NN. En ello vemos que existe una ligera tendencia a identificar mejor a los positivos pero logra encontrar mayores casos negativos de todo el universo(recall). El f1-score es simplemente la media armónica de la precisión y el recall. Lo anteiror puede darse por lo mostrado al principio de la tarea y es que vimos que existían ligeramente más reseñas positivas que negativas dentro de nuestro data set. Sin embargo, con esta información y debido a la poca diferencia entre ambas es dificil identificar dónde se encuentra el punto a mejorar. "
      ]
    },
    {
      "cell_type": "code",
      "metadata": {
        "id": "ngqZyF2tS6Jq",
        "colab_type": "code",
        "outputId": "4812e419-7f55-4e42-ab95-16d4e79db848",
        "colab": {
          "base_uri": "https://localhost:8080/",
          "height": 391
        }
      },
      "source": [
        "#P)\n",
        "\n",
        "from sklearn.metrics import classification_report\n",
        "def score_the_model(model, x, y):\n",
        "    print(\"Detailed Analysis Testing Results ...\")\n",
        "    print(classification_report(y, model1.predict_classes(x), target_names=['-','+']))\n",
        "print(score_the_model(model1, features_test, labels_test ))\n",
        "print(score_the_model(log_models[2], features_test,labels_test))"
      ],
      "execution_count": 43,
      "outputs": [
        {
          "output_type": "stream",
          "text": [
            "Detailed Analysis Testing Results ...\n",
            "              precision    recall  f1-score   support\n",
            "\n",
            "           -       0.72      0.72      0.72      1803\n",
            "           +       0.71      0.71      0.71      1751\n",
            "\n",
            "    accuracy                           0.71      3554\n",
            "   macro avg       0.71      0.71      0.71      3554\n",
            "weighted avg       0.71      0.71      0.71      3554\n",
            "\n",
            "None\n",
            "Detailed Analysis Testing Results ...\n",
            "              precision    recall  f1-score   support\n",
            "\n",
            "           -       0.72      0.72      0.72      1803\n",
            "           +       0.71      0.71      0.71      1751\n",
            "\n",
            "    accuracy                           0.71      3554\n",
            "   macro avg       0.71      0.71      0.71      3554\n",
            "weighted avg       0.71      0.71      0.71      3554\n",
            "\n",
            "None\n"
          ],
          "name": "stdout"
        }
      ]
    },
    {
      "cell_type": "code",
      "metadata": {
        "id": "GpEfeXPsTG_f",
        "colab_type": "code",
        "outputId": "9b8dde3d-9d07-4a86-fa85-badc9f69bc92",
        "colab": {
          "base_uri": "https://localhost:8080/",
          "height": 241
        }
      },
      "source": [
        "#Q)\n",
        "model2 = log_models[2]\n",
        "classes_weights = {0: 5, 1: 1} #or choose..\n",
        "model2.set_params(class_weight=classes_weights)\n",
        "model2.fit(features_train, labels_train)\n",
        "score_the_model(model2, features_test, labels_test)"
      ],
      "execution_count": 44,
      "outputs": [
        {
          "output_type": "stream",
          "text": [
            "Detailed Analysis Testing Results ...\n"
          ],
          "name": "stdout"
        },
        {
          "output_type": "stream",
          "text": [
            "/usr/local/lib/python3.6/dist-packages/sklearn/linear_model/logistic.py:432: FutureWarning: Default solver will be changed to 'lbfgs' in 0.22. Specify a solver to silence this warning.\n",
            "  FutureWarning)\n"
          ],
          "name": "stderr"
        },
        {
          "output_type": "stream",
          "text": [
            "              precision    recall  f1-score   support\n",
            "\n",
            "           -       0.72      0.72      0.72      1803\n",
            "           +       0.71      0.71      0.71      1751\n",
            "\n",
            "    accuracy                           0.71      3554\n",
            "   macro avg       0.71      0.71      0.71      3554\n",
            "weighted avg       0.71      0.71      0.71      3554\n",
            "\n"
          ],
          "name": "stdout"
        }
      ]
    },
    {
      "cell_type": "markdown",
      "metadata": {
        "id": "5xn__nK_G2K7",
        "colab_type": "text"
      },
      "source": [
        "Ya finalizando nuestro informe, a continuación mostraremos las oraciones de nuestro data set de testeo, con su respectiva categoría y la predicha por nuestro modelo.\n",
        "\n",
        "Podemos observar algunos casos en los que el modelo falló en predecir nuestra salida original, pero viendo la probabilidad, siempre es cercana a 0.5 ( oscila entre 0.45 y 0.55). Por lo tanto, sin lugar a duda, que una representación continua da mucha más información de una discreta (categoríca) ya que podemos saber con qué seguridad nuestro modelo está etiqutando nuestro input. \n",
        "Por ejemplo, si nos dice que es una crítica *positiva* pero con un 55% de seguridad, no podemos confiar compeltamente en ello. "
      ]
    },
    {
      "cell_type": "code",
      "metadata": {
        "id": "s4auoP8tTVSG",
        "colab_type": "code",
        "outputId": "b7448038-9321-4d88-b0c9-cc86076f55d1",
        "colab": {
          "base_uri": "https://localhost:8080/",
          "height": 802
        }
      },
      "source": [
        "#R)\n",
        "\n",
        "test_pred = model1.predict_proba(features_test) #or \".predict\"\n",
        "spl = np.random.randint( 0, len(test_pred), size=15)\n",
        "for text, pred_s, true_s in zip(df_test_text[spl], test_pred[spl], labels_test[spl]):\n",
        "    #if pred_s >=0.5:\n",
        "      print(\"True sent: \", true_s, \"-- Pred sent: \",pred_s)\n",
        "      print(\"Raw text: \", text)\n",
        "   # else:\n",
        "   #   print(\"True sent: \", true_s, \"-- Pred sent: \",1- pred_s)\n",
        "    #  print(\"Raw text: \", text)"
      ],
      "execution_count": 45,
      "outputs": [
        {
          "output_type": "stream",
          "text": [
            "True sent:  0.0 -- Pred sent:  [0.31079066]\n",
            "Raw text:  there's undeniable enjoyment to be had from films crammed with movie references , but the fun wears thin -- then out -- when there's nothing else happening .\n",
            "\n",
            "True sent:  1.0 -- Pred sent:  [0.30926856]\n",
            "Raw text:  \" the emperor's new clothes \" begins with a simple plan . . . . well , at least that's the plan .\n",
            "\n",
            "True sent:  0.0 -- Pred sent:  [0.27023235]\n",
            "Raw text:  the movie straddles the fence between escapism and social commentary , and on both sides it falls short .\n",
            "\n",
            "True sent:  0.0 -- Pred sent:  [0.26405653]\n",
            "Raw text:  it's best to avoid imprisonment with the dull , nerdy folks that inhabit cherish .\n",
            "\n",
            "True sent:  0.0 -- Pred sent:  [0.20200804]\n",
            "Raw text:  this is a movie that starts out like heathers , then becomes bring it on , then becomes unwatchable .\n",
            "\n",
            "True sent:  0.0 -- Pred sent:  [0.5734802]\n",
            "Raw text:  director yu seems far more interested in gross-out humor than in showing us well-thought stunts or a car chase that we haven't seen 10 , 000 times .\n",
            "\n",
            "True sent:  1.0 -- Pred sent:  [0.95431566]\n",
            "Raw text:  nicolas philibert observes life inside a one-room schoolhouse in northern france in his documentary to be and to have , easily one of the best films of the year .\n",
            "\n",
            "True sent:  1.0 -- Pred sent:  [0.3700792]\n",
            "Raw text:  until its final minutes this is a perceptive study of two families in crisis -- and of two girls whose friendship is severely tested by bad luck and their own immaturity .\n",
            "\n",
            "True sent:  1.0 -- Pred sent:  [0.865383]\n",
            "Raw text:  this may not have the dramatic gut-wrenching impact of other holocaust films , but it's a compelling story , mainly because of the way it's told by the people who were there .\n",
            "\n",
            "True sent:  1.0 -- Pred sent:  [0.6894557]\n",
            "Raw text:  a rigorously structured and exquisitely filmed drama about a father and son connection that is a brief shooting star of love .\n",
            "\n",
            "True sent:  1.0 -- Pred sent:  [0.53407]\n",
            "Raw text:  the wanton slipperiness of * corpus and its amiable jerking and reshaping of physical time and space would make it a great piece to watch with kids and use to introduce video as art .\n",
            "\n",
            "True sent:  1.0 -- Pred sent:  [0.62718546]\n",
            "Raw text:  talk to her is not the perfect movie many have made it out to be , but it's still quite worth seeing .\n",
            "\n",
            "True sent:  0.0 -- Pred sent:  [0.62182194]\n",
            "Raw text:  the satire is just too easy to be genuinely satisfying .\n",
            "\n",
            "True sent:  0.0 -- Pred sent:  [0.5511098]\n",
            "Raw text:  handled correctly , wilde's play is a masterpiece of elegant wit and artifice . here , alas , it collapses like an overcooked soufflé .\n",
            "\n",
            "True sent:  1.0 -- Pred sent:  [0.58999914]\n",
            "Raw text:  [it's] a clever thriller with enough unexpected twists to keep our interest .\n",
            "\n"
          ],
          "name": "stdout"
        }
      ]
    },
    {
      "cell_type": "markdown",
      "metadata": {
        "id": "LEbnPej-Lw8j",
        "colab_type": "text"
      },
      "source": [
        "(S) \n",
        "En base a todo lo realizado anteriormente, creemos que la parte más importante fue identificar nuestro espacio de hipótesis. Testeando distintos modelos logramos identificar que la frontera de nuestro problema es más lineal de lo que pensabamos (esto se ve en el buen desempeño de la regresión logística, la linealidad de la NN y el kernel lineal de la SVM. Estos modelos tuvieron las mejores acc y son todos de frontera lineal). \n",
        "Sin embargo, estmaos tentandos a pensar que esto es debido al pre procesamiento de nuestros datos. Al final de la tarea se realizaron varios cambios a los datos de entrenamiento y testeo. Como eliminando las palabras menos frecuentes (lo que disminuye nuestro data set) pero ello supondría aún un modelo lienal debido a que simplemente sería un subconjunto. El gran cambio es considerar poligramas, ya que puede transformar drásticamente nuestro problema. Pero en base a los gráficos mostrados anteriormente a los nuevos data set, vemos que el modelo lineal de la NN y el modelo de regresión logística tuvieron un comoportamiento similar o mejor (en el caso de regresión). Por lo tanto, para este problema (con el data set en mano) consideramos que la mejor forma fue identificar los distintos posibles modelos existentes para poder mejorar el rendimiento (claramente con lo anterior nos referimos a todo el modelo, incluyendo los parámetros)."
      ]
    }
  ]
}